{
  "cells": [
    {
      "cell_type": "markdown",
      "metadata": {
        "id": "ZE9M1Lx0Q6Xs"
      },
      "source": [
        "# Household or Handheld: A statistical report on the mean sales of handheld devices vs home consoles."
      ]
    },
    {
      "cell_type": "markdown",
      "metadata": {
        "id": "1ZNFrTP8RMiA"
      },
      "source": [
        "# Introduction\n",
        "\n",
        "While some individuals enjoy the convenience and lower price tag of handheld games such as the DS, others may prefer the traditional experience that home gaming consoles like Wii provide.  As the video game industry continues to grow, gaming companies can gain insight by looking at the popularity of these two platforms to decide which direction to launch their next project.\n",
        "\n",
        "Due to the high popularity of console gaming in North America, with over half of American households owning a gaming console *(1)*, we expect there will be a significant difference in the mean game sales, with the mean sales of console video games being higher than that of handheld games. With that being said, we are not confident enough in this claim to make our testing one-sided, therefore, in our project we will be exploring the research question, \"Is there a difference in the popularity of handheld devices and home consoles for gaming in North America?\".\n",
        "\n",
        "To answer this inferential question, the dataset we will be investigating is the \"Video Game Sales\" dataset found on Kaggle, by Gregory Smith, with our location parameter being the mean and the scale parameter being the standard deviation. The dataset consists of the sales data for 10,129 games released in North America from 1980 to 2020. However, we chose to use 2001 as a cutoff year because it is the release year of modern milestones, the home Xbox and the handheld Game Boy Advance. *(2)* There are 11 variables, but we are only interested in North American sales in millions and the platform. There are no missing values in this dataset.\n"
      ]
    },
    {
      "cell_type": "markdown",
      "metadata": {
        "id": "dK6nKtt_RRZP"
      },
      "source": [
        "# Methods and Results"
      ]
    },
    {
      "cell_type": "code",
      "source": [
        "#install.packages(\"tidymodels\") # uncomment for colab"
      ],
      "metadata": {
        "id": "LxkUQF1CFTbE"
      },
      "execution_count": null,
      "outputs": []
    },
    {
      "cell_type": "code",
      "execution_count": null,
      "metadata": {
        "id": "jZiSzkF4WtWY",
        "outputId": "86596333-27e2-4d03-cc47-a0263d5f477d",
        "colab": {
          "base_uri": "https://localhost:8080/"
        }
      },
      "outputs": [
        {
          "output_type": "stream",
          "name": "stderr",
          "text": [
            "── \u001b[1mAttaching core tidyverse packages\u001b[22m ──────────────────────── tidyverse 2.0.0 ──\n",
            "\u001b[32m✔\u001b[39m \u001b[34mdplyr    \u001b[39m 1.1.2     \u001b[32m✔\u001b[39m \u001b[34mreadr    \u001b[39m 2.1.4\n",
            "\u001b[32m✔\u001b[39m \u001b[34mforcats  \u001b[39m 1.0.0     \u001b[32m✔\u001b[39m \u001b[34mstringr  \u001b[39m 1.5.0\n",
            "\u001b[32m✔\u001b[39m \u001b[34mggplot2  \u001b[39m 3.4.2     \u001b[32m✔\u001b[39m \u001b[34mtibble   \u001b[39m 3.2.1\n",
            "\u001b[32m✔\u001b[39m \u001b[34mlubridate\u001b[39m 1.9.2     \u001b[32m✔\u001b[39m \u001b[34mtidyr    \u001b[39m 1.3.0\n",
            "\u001b[32m✔\u001b[39m \u001b[34mpurrr    \u001b[39m 1.0.1     \n",
            "── \u001b[1mConflicts\u001b[22m ────────────────────────────────────────── tidyverse_conflicts() ──\n",
            "\u001b[31m✖\u001b[39m \u001b[34mdplyr\u001b[39m::\u001b[32mfilter()\u001b[39m masks \u001b[34mstats\u001b[39m::filter()\n",
            "\u001b[31m✖\u001b[39m \u001b[34mdplyr\u001b[39m::\u001b[32mlag()\u001b[39m    masks \u001b[34mstats\u001b[39m::lag()\n",
            "\u001b[36mℹ\u001b[39m Use the conflicted package (\u001b[3m\u001b[34m<http://conflicted.r-lib.org/>\u001b[39m\u001b[23m) to force all conflicts to become errors\n",
            "── \u001b[1mAttaching packages\u001b[22m ────────────────────────────────────── tidymodels 1.1.0 ──\n",
            "\n",
            "\u001b[32m✔\u001b[39m \u001b[34mbroom       \u001b[39m 1.0.5     \u001b[32m✔\u001b[39m \u001b[34mrsample     \u001b[39m 1.1.1\n",
            "\u001b[32m✔\u001b[39m \u001b[34mdials       \u001b[39m 1.2.0     \u001b[32m✔\u001b[39m \u001b[34mtune        \u001b[39m 1.1.1\n",
            "\u001b[32m✔\u001b[39m \u001b[34minfer       \u001b[39m 1.0.4     \u001b[32m✔\u001b[39m \u001b[34mworkflows   \u001b[39m 1.1.3\n",
            "\u001b[32m✔\u001b[39m \u001b[34mmodeldata   \u001b[39m 1.2.0     \u001b[32m✔\u001b[39m \u001b[34mworkflowsets\u001b[39m 1.0.1\n",
            "\u001b[32m✔\u001b[39m \u001b[34mparsnip     \u001b[39m 1.1.0     \u001b[32m✔\u001b[39m \u001b[34myardstick   \u001b[39m 1.2.0\n",
            "\u001b[32m✔\u001b[39m \u001b[34mrecipes     \u001b[39m 1.0.7     \n",
            "\n",
            "── \u001b[1mConflicts\u001b[22m ───────────────────────────────────────── tidymodels_conflicts() ──\n",
            "\u001b[31m✖\u001b[39m \u001b[34mscales\u001b[39m::\u001b[32mdiscard()\u001b[39m masks \u001b[34mpurrr\u001b[39m::discard()\n",
            "\u001b[31m✖\u001b[39m \u001b[34mdplyr\u001b[39m::\u001b[32mfilter()\u001b[39m   masks \u001b[34mstats\u001b[39m::filter()\n",
            "\u001b[31m✖\u001b[39m \u001b[34mrecipes\u001b[39m::\u001b[32mfixed()\u001b[39m  masks \u001b[34mstringr\u001b[39m::fixed()\n",
            "\u001b[31m✖\u001b[39m \u001b[34mdplyr\u001b[39m::\u001b[32mlag()\u001b[39m      masks \u001b[34mstats\u001b[39m::lag()\n",
            "\u001b[31m✖\u001b[39m \u001b[34myardstick\u001b[39m::\u001b[32mspec()\u001b[39m masks \u001b[34mreadr\u001b[39m::spec()\n",
            "\u001b[31m✖\u001b[39m \u001b[34mrecipes\u001b[39m::\u001b[32mstep()\u001b[39m   masks \u001b[34mstats\u001b[39m::step()\n",
            "\u001b[34m•\u001b[39m Search for functions across packages at \u001b[32mhttps://www.tidymodels.org/find/\u001b[39m\n",
            "\n"
          ]
        }
      ],
      "source": [
        "# Loading the packages we need\n",
        "library(tidyverse)\n",
        "library(tidymodels)\n",
        "\n",
        "options(repr.plot.width = 10, repr.plot.height = 8)\n",
        "options(repr.matrix.max.rows = 6)"
      ]
    },
    {
      "cell_type": "code",
      "execution_count": null,
      "metadata": {
        "colab": {
          "base_uri": "https://localhost:8080/",
          "height": 461
        },
        "id": "PAap73xZW5BP",
        "outputId": "fa0a37f1-667d-4139-8e14-df373fa1a60e"
      },
      "outputs": [
        {
          "output_type": "stream",
          "name": "stderr",
          "text": [
            "\u001b[1mRows: \u001b[22m\u001b[34m16598\u001b[39m \u001b[1mColumns: \u001b[22m\u001b[34m11\u001b[39m\n",
            "\u001b[36m──\u001b[39m \u001b[1mColumn specification\u001b[22m \u001b[36m────────────────────────────────────────────────────────\u001b[39m\n",
            "\u001b[1mDelimiter:\u001b[22m \",\"\n",
            "\u001b[31mchr\u001b[39m (5): Name, Platform, Year, Genre, Publisher\n",
            "\u001b[32mdbl\u001b[39m (6): Rank, NA_Sales, EU_Sales, JP_Sales, Other_Sales, Global_Sales\n",
            "\n",
            "\u001b[36mℹ\u001b[39m Use `spec()` to retrieve the full column specification for this data.\n",
            "\u001b[36mℹ\u001b[39m Specify the column types or set `show_col_types = FALSE` to quiet this message.\n"
          ]
        },
        {
          "output_type": "display_data",
          "data": {
            "text/html": [
              "<table class=\"dataframe\">\n",
              "<caption>A tibble: 10129 × 2</caption>\n",
              "<thead>\n",
              "\t<tr><th scope=col>Platform</th><th scope=col>NA_Sales</th></tr>\n",
              "\t<tr><th scope=col>&lt;chr&gt;</th><th scope=col>&lt;dbl&gt;</th></tr>\n",
              "</thead>\n",
              "<tbody>\n",
              "\t<tr><td>Home_Console</td><td>41.49</td></tr>\n",
              "\t<tr><td>Home_Console</td><td>15.85</td></tr>\n",
              "\t<tr><td>Home_Console</td><td>15.75</td></tr>\n",
              "\t<tr><td>⋮</td><td>⋮</td></tr>\n",
              "\t<tr><td>Handheld    </td><td>0.01</td></tr>\n",
              "\t<tr><td>Home_Console</td><td>0.01</td></tr>\n",
              "\t<tr><td>Handheld    </td><td>0.01</td></tr>\n",
              "</tbody>\n",
              "</table>\n"
            ],
            "text/markdown": "\nA tibble: 10129 × 2\n\n| Platform &lt;chr&gt; | NA_Sales &lt;dbl&gt; |\n|---|---|\n| Home_Console | 41.49 |\n| Home_Console | 15.85 |\n| Home_Console | 15.75 |\n| ⋮ | ⋮ |\n| Handheld     | 0.01 |\n| Home_Console | 0.01 |\n| Handheld     | 0.01 |\n\n",
            "text/latex": "A tibble: 10129 × 2\n\\begin{tabular}{ll}\n Platform & NA\\_Sales\\\\\n <chr> & <dbl>\\\\\n\\hline\n\t Home\\_Console & 41.49\\\\\n\t Home\\_Console & 15.85\\\\\n\t Home\\_Console & 15.75\\\\\n\t ⋮ & ⋮\\\\\n\t Handheld     & 0.01\\\\\n\t Home\\_Console & 0.01\\\\\n\t Handheld     & 0.01\\\\\n\\end{tabular}\n",
            "text/plain": [
              "      Platform     NA_Sales\n",
              "1     Home_Console 41.49   \n",
              "2     Home_Console 15.85   \n",
              "3     Home_Console 15.75   \n",
              "⋮     ⋮            ⋮       \n",
              "10127 Handheld     0.01    \n",
              "10128 Home_Console 0.01    \n",
              "10129 Handheld     0.01    "
            ]
          },
          "metadata": {}
        }
      ],
      "source": [
        "# Allows for the data to be reproducible\n",
        "set.seed(100)\n",
        "\n",
        "# Grabbing the data\n",
        "url <- \"https://raw.githubusercontent.com/xonew/Stat-201-21-Project/main/vgsales.csv\"\n",
        "\n",
        "#Reading data into R\n",
        "gaming_dataset <- read_csv(url)\n",
        "\n",
        "#Selecting columns we need for our analysis\n",
        "gaming_data <- gaming_dataset %>%\n",
        "filter(\n",
        "Year > 2001,\n",
        "NA_Sales > 0) %>%\n",
        "select(Platform, NA_Sales) |>\n",
        "  mutate(Platform = if_else(Platform %in% c(\"DS\", \"GBA\", \"GB\", \"PSV\", \"PSP\"), \"Handheld\", \"Home_Console\"))\n",
        "\n",
        "gaming_data"
      ]
    },
    {
      "cell_type": "markdown",
      "metadata": {
        "id": "zghBlFGHq1zb"
      },
      "source": [
        "(Table 1: Table with tidy data)\n",
        "\n",
        "We are interested in two columns:\n",
        "- **Platform**: Platform on which video game is played (Home_Console or Handheld)\n",
        "- **NA_Sales**: North American sales (in millions)\n"
      ]
    },
    {
      "cell_type": "code",
      "execution_count": null,
      "metadata": {
        "colab": {
          "base_uri": "https://localhost:8080/",
          "height": 497
        },
        "id": "DsX38WlhnYyy",
        "outputId": "2375bbb9-efa0-4db6-a0b6-c0239f560369"
      },
      "outputs": [
        {
          "output_type": "display_data",
          "data": {
            "text/plain": [
              "plot without title"
            ],
            "image/png": "[encoded data removed]"
          },
          "metadata": {
            "image/png": {
              "width": 600,
              "height": 480
            }
          }
        }
      ],
      "source": [
        "#Comparing the sampling distributions of handheld and home console systems in North America\n",
        "gaming_data_dist_na <-\n",
        "gaming_data %>%\n",
        "  ggplot() +\n",
        "  geom_histogram(aes(x = NA_Sales), bins = 50) +\n",
        "  facet_wrap(~ Platform) +\n",
        "  xlab(\"Copies sold (Millions)\") +\n",
        "  ylab(\"Number of game titles\") +\n",
        "  ggtitle(\"Games Sold per Platform\")+\n",
        "  theme(text = element_text(size = 22))\n",
        "gaming_data_dist_na"
      ]
    },
    {
      "cell_type": "markdown",
      "metadata": {
        "id": "FebGTmukthsg"
      },
      "source": [
        "(Figure 1.1: Sampling distribution for games for each platform)\n",
        "\n",
        "As we can see from *Figure 1.1*, the sampling distributions for both platforms are heavily right-skewed unimodal distributions. The number of total sales for home console systems eclipses that of the sales for handheld console systems, but the centers of the distributions appear to be fairly close to one another. Note that there are values on the right of the graph, but they are not visible due to being too small."
      ]
    },
    {
      "cell_type": "code",
      "execution_count": null,
      "metadata": {
        "colab": {
          "base_uri": "https://localhost:8080/",
          "height": 161
        },
        "id": "xZ-Bd0I52HFi",
        "outputId": "db759837-34e2-4811-8a2c-504cf79f80ff"
      },
      "outputs": [
        {
          "output_type": "display_data",
          "data": {
            "text/html": [
              "<table class=\"dataframe\">\n",
              "<caption>A data.frame: 2 × 9</caption>\n",
              "<thead>\n",
              "\t<tr><th scope=col>Platform</th><th scope=col>Num_Titles</th><th scope=col>Sales_Total</th><th scope=col>Titles_Proportion</th><th scope=col>Sales_Proportion</th><th scope=col>Sales_Mean</th><th scope=col>Sales_SD</th><th scope=col>Means_Diff</th><th scope=col>Deg_Freedom</th></tr>\n",
              "\t<tr><th scope=col>&lt;chr&gt;</th><th scope=col>&lt;int&gt;</th><th scope=col>&lt;dbl&gt;</th><th scope=col>&lt;dbl&gt;</th><th scope=col>&lt;dbl&gt;</th><th scope=col>&lt;dbl&gt;</th><th scope=col>&lt;dbl&gt;</th><th scope=col>&lt;chr&gt;</th><th scope=col>&lt;chr&gt;</th></tr>\n",
              "</thead>\n",
              "<tbody>\n",
              "\t<tr><td>Handheld    </td><td>2912</td><td> 667.83</td><td>0.2874914</td><td>0.2015963</td><td>0.2293372</td><td>0.5101972</td><td>0.137141921185023</td><td>19848.0371669035</td></tr>\n",
              "\t<tr><td>Home_Console</td><td>7217</td><td>2644.88</td><td>0.7125086</td><td>0.7984037</td><td>0.3664791</td><td>0.9114268</td><td>x                </td><td>x               </td></tr>\n",
              "</tbody>\n",
              "</table>\n"
            ],
            "text/markdown": "\nA data.frame: 2 × 9\n\n| Platform &lt;chr&gt; | Num_Titles &lt;int&gt; | Sales_Total &lt;dbl&gt; | Titles_Proportion &lt;dbl&gt; | Sales_Proportion &lt;dbl&gt; | Sales_Mean &lt;dbl&gt; | Sales_SD &lt;dbl&gt; | Means_Diff &lt;chr&gt; | Deg_Freedom &lt;chr&gt; |\n|---|---|---|---|---|---|---|---|---|\n| Handheld     | 2912 |  667.83 | 0.2874914 | 0.2015963 | 0.2293372 | 0.5101972 | 0.137141921185023 | 19848.0371669035 |\n| Home_Console | 7217 | 2644.88 | 0.7125086 | 0.7984037 | 0.3664791 | 0.9114268 | x                 | x                |\n\n",
            "text/latex": "A data.frame: 2 × 9\n\\begin{tabular}{lllllllll}\n Platform & Num\\_Titles & Sales\\_Total & Titles\\_Proportion & Sales\\_Proportion & Sales\\_Mean & Sales\\_SD & Means\\_Diff & Deg\\_Freedom\\\\\n <chr> & <int> & <dbl> & <dbl> & <dbl> & <dbl> & <dbl> & <chr> & <chr>\\\\\n\\hline\n\t Handheld     & 2912 &  667.83 & 0.2874914 & 0.2015963 & 0.2293372 & 0.5101972 & 0.137141921185023 & 19848.0371669035\\\\\n\t Home\\_Console & 7217 & 2644.88 & 0.7125086 & 0.7984037 & 0.3664791 & 0.9114268 & x                 & x               \\\\\n\\end{tabular}\n",
            "text/plain": [
              "  Platform     Num_Titles Sales_Total Titles_Proportion Sales_Proportion\n",
              "1 Handheld     2912        667.83     0.2874914         0.2015963       \n",
              "2 Home_Console 7217       2644.88     0.7125086         0.7984037       \n",
              "  Sales_Mean Sales_SD  Means_Diff        Deg_Freedom     \n",
              "1 0.2293372  0.5101972 0.137141921185023 19848.0371669035\n",
              "2 0.3664791  0.9114268 x                 x               "
            ]
          },
          "metadata": {}
        }
      ],
      "source": [
        "# Grabbing total sales and titles\n",
        "total_sales <- sum(gaming_data$NA_Sales)\n",
        "total_titles <- NROW(gaming_data)\n",
        "\n",
        "# Computing summary statistics\n",
        "sum_stats <-\n",
        "  gaming_data |>\n",
        "  group_by(Platform) |>\n",
        "  summarise(Num_Titles = n(),\n",
        "            Sales_Total = sum(NA_Sales),\n",
        "            Titles_Proportion = Num_Titles/total_titles,\n",
        "            Sales_Proportion = Sales_Total/total_sales,\n",
        "            Sales_Mean = mean(NA_Sales),\n",
        "            Sales_SD = sd(NA_Sales))\n",
        "Means_Diff  <- c(sum_stats$Sales_Mean[2]-sum_stats$Sales_Mean[1], \"x\")\n",
        "\n",
        "# Degrees of freedom for our two sample t-test\n",
        "Deg_Freedom <- c((sum_stats$Sales_SD[1]/sum_stats$Num_Titles[1] + sum_stats$Sales_SD[2]/sum_stats$Num_Titles[2])^2/(\n",
        "                            sum_stats$Sales_SD[1]^4/(sum_stats$Num_Titles[1]^2*(sum_stats$Num_Titles[1])) +\n",
        "                              sum_stats$Sales_SD[2]^4/(sum_stats$Num_Titles[2]^2*(sum_stats$Num_Titles[2]))), \"x\")\n",
        "\n",
        "# Displaying the text\n",
        "cbind(sum_stats, Means_Diff, Deg_Freedom)"
      ]
    },
    {
      "cell_type": "markdown",
      "metadata": {
        "id": "AknxBN9Yuo2i"
      },
      "source": [
        "(Table 1.2: Summary statistics for the two platforms)\n",
        "\n",
        "The total number of titles and sales for each type of console are shown, as well as their corresponding proportions. We can see that the number of titles for handheld systems is under-represented by their sales, which points to a difference in means.\n",
        "\n",
        "Sample estimates for our center and scale variables have also been calculated: the mean and standard deviation, respectively. We chose to use these types of parameters because they are sensitive to outliers, which corresponds well to our heavily skewed dataset.\n",
        "\n",
        "Finally, we have an estimate of our parameter of interest: the difference in means. It is not zero, but whether it is \"significantly not zero\" needs to be investigated. We also have calculated the degrees of freedom that will be used in the upcoming t-test."
      ]
    },
    {
      "cell_type": "markdown",
      "metadata": {
        "id": "49qk-jnpsLL3"
      },
      "source": [
        "### Simulation-based Hypothesis Testing\n",
        "\n",
        "This report seems to be trustworthy because the dataset is quite large, uses current data (2001-2015), and the data points are distinct. The plots and statistics we have provided thus far provide an estimate of our relevant parameters but they are not enough by itself to prove a significant difference in means.\n",
        "\n",
        "In order to determine whether there is a significant difference in means, we will conduct a two-sided simulation-based hypothesis test using permutation. We will also conduct a two-sided two-sample t-test using t test with 19848 degrees of freedom. The Central Limit Theorem will apply due to our large sample size; we need this due to our highly skewed sample.\n",
        "\n",
        "The p-values of both hypothesis tests will be tested against a significance level of 0.05 as this is the most common significance level used in the sciences *(3)*.\n",
        "\n",
        "Null hypothesis (H0): There is no significant difference in means between handheld and home console sales in North America.  \n",
        "\n",
        "$H_0: \\mu_1 - \\mu_2 = 0$\n",
        "\n",
        "Alternative hypothesis (H1): There is a significant difference in means between handheld and home console sales in North America.  \n",
        "\n",
        "$H_1: \\mu_1 - \\mu_2 \\neq 0$"
      ]
    },
    {
      "cell_type": "markdown",
      "metadata": {
        "id": "lu9GYEdQsLL3"
      },
      "source": [
        "**Simulation Based Hypothesis Test Using Permutation**"
      ]
    },
    {
      "cell_type": "code",
      "execution_count": null,
      "metadata": {
        "colab": {
          "base_uri": "https://localhost:8080/",
          "height": 129
        },
        "id": "vVpLgjopsLL3",
        "outputId": "72980e9c-7db5-4a39-91b3-c0a526ffdd29"
      },
      "outputs": [
        {
          "output_type": "display_data",
          "data": {
            "text/html": [
              "<table class=\"dataframe\">\n",
              "<caption>A infer: 1 × 1</caption>\n",
              "<thead>\n",
              "\t<tr><th scope=col>stat</th></tr>\n",
              "\t<tr><th scope=col>&lt;dbl&gt;</th></tr>\n",
              "</thead>\n",
              "<tbody>\n",
              "\t<tr><td>0.1371419</td></tr>\n",
              "</tbody>\n",
              "</table>\n"
            ],
            "text/markdown": "\nA infer: 1 × 1\n\n| stat &lt;dbl&gt; |\n|---|\n| 0.1371419 |\n\n",
            "text/latex": "A infer: 1 × 1\n\\begin{tabular}{l}\n stat\\\\\n <dbl>\\\\\n\\hline\n\t 0.1371419\\\\\n\\end{tabular}\n",
            "text/plain": [
              "  stat     \n",
              "1 0.1371419"
            ]
          },
          "metadata": {}
        }
      ],
      "source": [
        "#calculating the observed mean difference between Console game sales and handheld game sales\n",
        "obs_mean_sales_diff <- gaming_data |>\n",
        "specify(formula = NA_Sales ~ Platform) |>\n",
        "calculate(stat=\"diff in means\", order=c(\"Home_Console\", \"Handheld\"))\n",
        "\n",
        "obs_mean_sales_diff"
      ]
    },
    {
      "cell_type": "markdown",
      "metadata": {
        "id": "LY5g4uEKsLL3"
      },
      "source": [
        "(Table 1.3: Mean difference in sales between the two consoles)"
      ]
    },
    {
      "cell_type": "code",
      "execution_count": null,
      "metadata": {
        "colab": {
          "base_uri": "https://localhost:8080/",
          "height": 286
        },
        "id": "7PgXTKFFsLL4",
        "outputId": "395f28c0-fdb9-4050-854f-cc194bee4759"
      },
      "outputs": [
        {
          "output_type": "display_data",
          "data": {
            "text/html": [
              "<table class=\"dataframe\">\n",
              "<caption>A infer: 6 × 2</caption>\n",
              "<thead>\n",
              "\t<tr><th scope=col>replicate</th><th scope=col>stat</th></tr>\n",
              "\t<tr><th scope=col>&lt;int&gt;</th><th scope=col>&lt;dbl&gt;</th></tr>\n",
              "</thead>\n",
              "<tbody>\n",
              "\t<tr><td>1</td><td> 1.065897e-02</td></tr>\n",
              "\t<tr><td>2</td><td>-5.858080e-03</td></tr>\n",
              "\t<tr><td>3</td><td> 1.782584e-02</td></tr>\n",
              "\t<tr><td>4</td><td> 8.711822e-03</td></tr>\n",
              "\t<tr><td>5</td><td>-2.165027e-06</td></tr>\n",
              "\t<tr><td>6</td><td>-1.830250e-02</td></tr>\n",
              "</tbody>\n",
              "</table>\n"
            ],
            "text/markdown": "\nA infer: 6 × 2\n\n| replicate &lt;int&gt; | stat &lt;dbl&gt; |\n|---|---|\n| 1 |  1.065897e-02 |\n| 2 | -5.858080e-03 |\n| 3 |  1.782584e-02 |\n| 4 |  8.711822e-03 |\n| 5 | -2.165027e-06 |\n| 6 | -1.830250e-02 |\n\n",
            "text/latex": "A infer: 6 × 2\n\\begin{tabular}{ll}\n replicate & stat\\\\\n <int> & <dbl>\\\\\n\\hline\n\t 1 &  1.065897e-02\\\\\n\t 2 & -5.858080e-03\\\\\n\t 3 &  1.782584e-02\\\\\n\t 4 &  8.711822e-03\\\\\n\t 5 & -2.165027e-06\\\\\n\t 6 & -1.830250e-02\\\\\n\\end{tabular}\n",
            "text/plain": [
              "  replicate stat         \n",
              "1 1          1.065897e-02\n",
              "2 2         -5.858080e-03\n",
              "3 3          1.782584e-02\n",
              "4 4          8.711822e-03\n",
              "5 5         -2.165027e-06\n",
              "6 6         -1.830250e-02"
            ]
          },
          "metadata": {}
        }
      ],
      "source": [
        "#Simulating the null distribution\n",
        "null_diff_in_means <- gaming_data |>\n",
        "specify(formula = NA_Sales ~ Platform) |>\n",
        "hypothesize(null=\"independence\") |>\n",
        "generate(reps=1000, type = \"permute\") |>\n",
        "calculate(stat=\"diff in means\", order=c(\"Home_Console\", \"Handheld\"))\n",
        "\n",
        "head(null_diff_in_means)"
      ]
    },
    {
      "cell_type": "markdown",
      "metadata": {
        "id": "jn6kL4musLL4"
      },
      "source": [
        "(Tables 1.4: Null difference in means)\n",
        "\n",
        "Here we have used the infer package to obtain the observed mean difference between console and handheld games (in that order).  We then simulated the null distribution using permutation with the infer package.  We did so using 1000 different permutations, where in each permutation the handheld games and console games are randomly assigned to different values from the NA_Sales column and the mean difference is calculated in each sample."
      ]
    },
    {
      "cell_type": "code",
      "execution_count": null,
      "metadata": {
        "colab": {
          "base_uri": "https://localhost:8080/",
          "height": 497
        },
        "id": "9EnwOKyKsLL4",
        "outputId": "653fa344-f36e-43ad-bbd4-bdc6b82eaa70"
      },
      "outputs": [
        {
          "output_type": "display_data",
          "data": {
            "text/plain": [
              "plot without title"
            ],
            "image/png": "[encoded data removed]"
          },
          "metadata": {
            "image/png": {
              "width": 600,
              "height": 480
            }
          }
        }
      ],
      "source": [
        "# Allowing the data to be reproducible\n",
        "set.seed(100)\n",
        "\n",
        "#Visualising the null distribution and where our obersved test statistic lies\n",
        "diff_in_means_plot <- null_diff_in_means |>\n",
        "visualize() +\n",
        "shade_p_value(obs_stat= obs_mean_sales_diff, direction= \"both\") +\n",
        "xlab(\"Difference in Means\")\n",
        "\n",
        "diff_in_means_plot"
      ]
    },
    {
      "cell_type": "markdown",
      "metadata": {
        "id": "6vBQd-e3sLL4"
      },
      "source": [
        "(Figure 1.2)\n",
        "\n",
        "Here we have visualised this simulated null distribution via a histogram and shaded the values that are more extreme than the observed test statistic in red."
      ]
    },
    {
      "cell_type": "code",
      "execution_count": null,
      "metadata": {
        "colab": {
          "base_uri": "https://localhost:8080/",
          "height": 183
        },
        "id": "05iUxvxssLL5",
        "outputId": "84ca3bdf-93ac-4ede-ced0-588de824375f"
      },
      "outputs": [
        {
          "output_type": "stream",
          "name": "stderr",
          "text": [
            "Warning message:\n",
            "“Please be cautious in reporting a p-value of 0. This result is an approximation based on the number of `reps` chosen in the `generate()` step. See `?get_p_value()` for more information.”\n"
          ]
        },
        {
          "output_type": "display_data",
          "data": {
            "text/html": [
              "<table class=\"dataframe\">\n",
              "<caption>A tibble: 1 × 1</caption>\n",
              "<thead>\n",
              "\t<tr><th scope=col>p_value</th></tr>\n",
              "\t<tr><th scope=col>&lt;dbl&gt;</th></tr>\n",
              "</thead>\n",
              "<tbody>\n",
              "\t<tr><td>0</td></tr>\n",
              "</tbody>\n",
              "</table>\n"
            ],
            "text/markdown": "\nA tibble: 1 × 1\n\n| p_value &lt;dbl&gt; |\n|---|\n| 0 |\n\n",
            "text/latex": "A tibble: 1 × 1\n\\begin{tabular}{l}\n p\\_value\\\\\n <dbl>\\\\\n\\hline\n\t 0\\\\\n\\end{tabular}\n",
            "text/plain": [
              "  p_value\n",
              "1 0      "
            ]
          },
          "metadata": {}
        }
      ],
      "source": [
        "# Allowing the data to be reproducible\n",
        "set.seed(100)\n",
        "\n",
        "#obtaining p-value\n",
        "p_value <- null_diff_in_means %>%\n",
        "  get_p_value(obs_stat = obs_mean_sales_diff, direction = \"both\")\n",
        "\n",
        "p_value"
      ]
    },
    {
      "cell_type": "markdown",
      "metadata": {
        "id": "37FOqjPtsLL5"
      },
      "source": [
        "(Table 1.5)\n",
        "\n",
        "Here we have obtained the p-value from our simulated hypothesis testing. It is so small that it has been rounded down to 0. Therefore, at our signficance level of 0.05, we will reject the null hypothesis that the mean sales of handheld games is equivalent to that of console games in North America. Our evidence supports the alternative hypothesis that handheld game sales are different than console game sales in North America. This simulation based hypothesis test is very handy as it relies on very few assumptions, however the next hypothesis test we will do is a little more strict."
      ]
    },
    {
      "cell_type": "markdown",
      "metadata": {
        "id": "AjSqt7wOsLL5"
      },
      "source": [
        "### Theory-Based Hypothesis Testing using 2 Sample T-Test"
      ]
    },
    {
      "cell_type": "markdown",
      "metadata": {
        "id": "2RV3RvIMsLL5"
      },
      "source": [
        "This test is dependent on the data being distributed normally, so it's important to ensure that the conditions of the central limit theorem are satisfied. The underlying data is skewed, but this is okay as long as the sample size is large enough to fulfill the CLT. Secondly, our data is a random sample of obervations. Third, the observations in the sample are independent as none of the game sales generally affect the sales of the other video games. Knowing all of this, the central limit theorem should apply and thus it is safe to assume our data will be roughly normally distributed."
      ]
    },
    {
      "cell_type": "code",
      "execution_count": null,
      "metadata": {
        "colab": {
          "base_uri": "https://localhost:8080/",
          "height": 129
        },
        "id": "_uUcoYl4sLL6",
        "outputId": "13199d68-64b5-484e-9f98-de35aa649ae7"
      },
      "outputs": [
        {
          "output_type": "display_data",
          "data": {
            "text/html": [
              "<table class=\"dataframe\">\n",
              "<caption>A tibble: 1 × 10</caption>\n",
              "<thead>\n",
              "\t<tr><th scope=col>n_Handheld</th><th scope=col>n_Home_Console</th><th scope=col>mean_Handheld</th><th scope=col>mean_Home_Console</th><th scope=col>var_Handheld</th><th scope=col>var_Home_Console</th><th scope=col>mean_diff</th><th scope=col>null_std_error</th><th scope=col>test_statistic</th><th scope=col>p_value</th></tr>\n",
              "\t<tr><th scope=col>&lt;int&gt;</th><th scope=col>&lt;int&gt;</th><th scope=col>&lt;dbl&gt;</th><th scope=col>&lt;dbl&gt;</th><th scope=col>&lt;dbl&gt;</th><th scope=col>&lt;dbl&gt;</th><th scope=col>&lt;dbl&gt;</th><th scope=col>&lt;dbl&gt;</th><th scope=col>&lt;dbl&gt;</th><th scope=col>&lt;dbl&gt;</th></tr>\n",
              "</thead>\n",
              "<tbody>\n",
              "\t<tr><td>2912</td><td>7217</td><td>0.2293372</td><td>0.3664791</td><td>0.2603012</td><td>0.8306988</td><td>0.1371419</td><td>0.01430008</td><td>9.590292</td><td>0</td></tr>\n",
              "</tbody>\n",
              "</table>\n"
            ],
            "text/markdown": "\nA tibble: 1 × 10\n\n| n_Handheld &lt;int&gt; | n_Home_Console &lt;int&gt; | mean_Handheld &lt;dbl&gt; | mean_Home_Console &lt;dbl&gt; | var_Handheld &lt;dbl&gt; | var_Home_Console &lt;dbl&gt; | mean_diff &lt;dbl&gt; | null_std_error &lt;dbl&gt; | test_statistic &lt;dbl&gt; | p_value &lt;dbl&gt; |\n|---|---|---|---|---|---|---|---|---|---|\n| 2912 | 7217 | 0.2293372 | 0.3664791 | 0.2603012 | 0.8306988 | 0.1371419 | 0.01430008 | 9.590292 | 0 |\n\n",
            "text/latex": "A tibble: 1 × 10\n\\begin{tabular}{llllllllll}\n n\\_Handheld & n\\_Home\\_Console & mean\\_Handheld & mean\\_Home\\_Console & var\\_Handheld & var\\_Home\\_Console & mean\\_diff & null\\_std\\_error & test\\_statistic & p\\_value\\\\\n <int> & <int> & <dbl> & <dbl> & <dbl> & <dbl> & <dbl> & <dbl> & <dbl> & <dbl>\\\\\n\\hline\n\t 2912 & 7217 & 0.2293372 & 0.3664791 & 0.2603012 & 0.8306988 & 0.1371419 & 0.01430008 & 9.590292 & 0\\\\\n\\end{tabular}\n",
            "text/plain": [
              "  n_Handheld n_Home_Console mean_Handheld mean_Home_Console var_Handheld\n",
              "1 2912       7217           0.2293372     0.3664791         0.2603012   \n",
              "  var_Home_Console mean_diff null_std_error test_statistic p_value\n",
              "1 0.8306988        0.1371419 0.01430008     9.590292       0      "
            ]
          },
          "metadata": {}
        }
      ],
      "source": [
        "# Allowing the data to be reproducible\n",
        "set.seed(100)\n",
        "\n",
        "#Computing Summary Statistics (similar to sum stats but mure concise, also comupting variance instead of standard deviation)\n",
        "console_handheld_summary <- gaming_data %>%\n",
        "     select(Platform, NA_Sales) %>%\n",
        "     group_by(Platform) %>%\n",
        "     summarise(n = n(),\n",
        "               mean = mean(NA_Sales),\n",
        "               var = var(NA_Sales),\n",
        "               `.groups` = \"drop\") %>%\n",
        "     pivot_wider(names_from = Platform, values_from = c(n, mean, var))\n",
        "\n",
        "#Calculating and adding a column that shows the observed mean difference\n",
        "console_handheld_summary <- console_handheld_summary %>%\n",
        "mutate(mean_diff=mean_Home_Console-mean_Handheld)\n",
        "\n",
        "#Caclulating the standard error under the null and adding a column that shows it\n",
        "console_handheld_summary <- console_handheld_summary %>%\n",
        "mutate(null_std_error= sqrt(var_Home_Console/n_Home_Console+var_Handheld/n_Handheld))\n",
        "\n",
        "#Calculating the test statistic and adding a column that shows it\n",
        "console_handheld_summary <- console_handheld_summary %>%\n",
        "mutate(test_statistic=mean_diff/null_std_error)\n",
        "\n",
        "#Calculating the p-value and adding a column that shows it\n",
        "console_handheld_summary <- console_handheld_summary %>%\n",
        "mutate(p_value=2*(1-pt(test_statistic, df=19848.0371669035)))\n",
        "\n",
        "\n",
        "console_handheld_summary"
      ]
    },
    {
      "cell_type": "markdown",
      "metadata": {
        "id": "v-lmkcpEsLL6"
      },
      "source": [
        "(Table 1.6)\n",
        "\n",
        "We start by providing an overview summarizing the figures of console and handheld games, encompassing total counts, mean sales figures, and variances for each category. Next, we determine the mean difference between console and handheld game sales by subtracting the average sales of handheld games from that of console games.\n",
        "\n",
        "After, we compute the standard error using the formula $\\sqrt{s_1^2/n_1 + s_2^2/n_2}$, where $s_1$ and $s_2$ represent the sample standard deviations and $n_1$ and $n_2$ denote the respective sample sizes. The test statistic is then calculated by dividing the previously determined mean difference by the computed standard error.\n",
        "\n",
        "We calculate the p-value through the application of our test statistic and the degrees of freedom (established earlier) using the pt function. This gives the probability of obtaining a value more extreme than our test statistic, within the t-distribution, on either side. We use the t-distribution due to the absence of population standard deviation data, supplementing it with an estimation from our sample.\n",
        "\n",
        "As in our simulation-based hypothesis test, the resulting p-value is exceedingly small (less than 0.01). Consequently, at our chosen significance level of 0.05, we opt to reject the null hypothesis, and support the alternative hypothesis that handheld game sales are different than console game sales in North America."
      ]
    },
    {
      "cell_type": "code",
      "execution_count": null,
      "metadata": {
        "colab": {
          "base_uri": "https://localhost:8080/",
          "height": 129
        },
        "id": "6MJ_1WwPsLL6",
        "outputId": "6de3783d-952c-42be-844b-0ecd354c010d"
      },
      "outputs": [
        {
          "output_type": "display_data",
          "data": {
            "text/html": [
              "<table class=\"dataframe\">\n",
              "<caption>A tibble: 1 × 10</caption>\n",
              "<thead>\n",
              "\t<tr><th scope=col>estimate</th><th scope=col>estimate1</th><th scope=col>estimate2</th><th scope=col>statistic</th><th scope=col>p.value</th><th scope=col>parameter</th><th scope=col>conf.low</th><th scope=col>conf.high</th><th scope=col>method</th><th scope=col>alternative</th></tr>\n",
              "\t<tr><th scope=col>&lt;dbl&gt;</th><th scope=col>&lt;dbl&gt;</th><th scope=col>&lt;dbl&gt;</th><th scope=col>&lt;dbl&gt;</th><th scope=col>&lt;dbl&gt;</th><th scope=col>&lt;dbl&gt;</th><th scope=col>&lt;dbl&gt;</th><th scope=col>&lt;dbl&gt;</th><th scope=col>&lt;chr&gt;</th><th scope=col>&lt;chr&gt;</th></tr>\n",
              "</thead>\n",
              "<tbody>\n",
              "\t<tr><td>0.1371419</td><td>0.3664791</td><td>0.2293372</td><td>9.590292</td><td>1.111168e-21</td><td>9128.52</td><td>0.1091106</td><td>0.1651733</td><td>Welch Two Sample t-test</td><td>two.sided</td></tr>\n",
              "</tbody>\n",
              "</table>\n"
            ],
            "text/markdown": "\nA tibble: 1 × 10\n\n| estimate &lt;dbl&gt; | estimate1 &lt;dbl&gt; | estimate2 &lt;dbl&gt; | statistic &lt;dbl&gt; | p.value &lt;dbl&gt; | parameter &lt;dbl&gt; | conf.low &lt;dbl&gt; | conf.high &lt;dbl&gt; | method &lt;chr&gt; | alternative &lt;chr&gt; |\n|---|---|---|---|---|---|---|---|---|---|\n| 0.1371419 | 0.3664791 | 0.2293372 | 9.590292 | 1.111168e-21 | 9128.52 | 0.1091106 | 0.1651733 | Welch Two Sample t-test | two.sided |\n\n",
            "text/latex": "A tibble: 1 × 10\n\\begin{tabular}{llllllllll}\n estimate & estimate1 & estimate2 & statistic & p.value & parameter & conf.low & conf.high & method & alternative\\\\\n <dbl> & <dbl> & <dbl> & <dbl> & <dbl> & <dbl> & <dbl> & <dbl> & <chr> & <chr>\\\\\n\\hline\n\t 0.1371419 & 0.3664791 & 0.2293372 & 9.590292 & 1.111168e-21 & 9128.52 & 0.1091106 & 0.1651733 & Welch Two Sample t-test & two.sided\\\\\n\\end{tabular}\n",
            "text/plain": [
              "  estimate  estimate1 estimate2 statistic p.value      parameter conf.low \n",
              "1 0.1371419 0.3664791 0.2293372 9.590292  1.111168e-21 9128.52   0.1091106\n",
              "  conf.high method                  alternative\n",
              "1 0.1651733 Welch Two Sample t-test two.sided  "
            ]
          },
          "metadata": {}
        }
      ],
      "source": [
        "# Allowing the data to be reproducible\n",
        "set.seed(100)\n",
        "\n",
        "#Creating a dataset with only console games\n",
        "console <- gaming_data |>\n",
        "select(Platform, NA_Sales) |>\n",
        "filter(Platform==\"Home_Console\")\n",
        "\n",
        "#Creating a dataset with only handheld games\n",
        "handheld <- gaming_data |>\n",
        "select(Platform, NA_Sales) |>\n",
        "filter(Platform==\"Handheld\")\n",
        "\n",
        "#Doing a T-test on our data (Yields same results as before but used it here to ensure our numbers were correct)\n",
        "console_handheld_t_test <- tidy(\n",
        "        t.test(x = console$NA_Sales,\n",
        "               y = handheld$NA_Sales,\n",
        "               alternative = \"two.sided\"))\n",
        "\n",
        "console_handheld_t_test"
      ]
    },
    {
      "cell_type": "markdown",
      "metadata": {
        "id": "NoQWJJ3FsLL6"
      },
      "source": [
        "(Table 1.7)\n",
        "\n",
        "Here we have confirmed our results our 2 sample t-test using a more straight forward t.test function.  You can see the test statistic is the same, but one benefit is that we get a more precise, unrounded p-value of 1.111168e-21."
      ]
    },
    {
      "cell_type": "markdown",
      "metadata": {
        "id": "0NV8bX1ZsLL6"
      },
      "source": [
        "**95% Confidence Interval**\n",
        "\n",
        "Now, we will obtain a 95% confidence interval using the central limit theorem to support our hypothesis test results. 95% is the chosen interval so that it is consistent with the hypothesis test's significance level of 0.05."
      ]
    },
    {
      "cell_type": "code",
      "execution_count": null,
      "metadata": {
        "colab": {
          "base_uri": "https://localhost:8080/",
          "height": 242
        },
        "id": "uHIqfeDlsLL6",
        "outputId": "69f07cb7-d2bf-42d7-b096-2ff0ff380cd3"
      },
      "outputs": [
        {
          "output_type": "display_data",
          "data": {
            "text/html": [
              "<table class=\"dataframe\">\n",
              "<caption>A tibble: 1 × 2</caption>\n",
              "<thead>\n",
              "\t<tr><th scope=col>lower_ci</th><th scope=col>upper_ci</th></tr>\n",
              "\t<tr><th scope=col>&lt;dbl&gt;</th><th scope=col>&lt;dbl&gt;</th></tr>\n",
              "</thead>\n",
              "<tbody>\n",
              "\t<tr><td>0.1091143</td><td>0.1651696</td></tr>\n",
              "</tbody>\n",
              "</table>\n"
            ],
            "text/markdown": "\nA tibble: 1 × 2\n\n| lower_ci &lt;dbl&gt; | upper_ci &lt;dbl&gt; |\n|---|---|\n| 0.1091143 | 0.1651696 |\n\n",
            "text/latex": "A tibble: 1 × 2\n\\begin{tabular}{ll}\n lower\\_ci & upper\\_ci\\\\\n <dbl> & <dbl>\\\\\n\\hline\n\t 0.1091143 & 0.1651696\\\\\n\\end{tabular}\n",
            "text/plain": [
              "  lower_ci  upper_ci \n",
              "1 0.1091143 0.1651696"
            ]
          },
          "metadata": {}
        },
        {
          "output_type": "display_data",
          "data": {
            "text/html": [
              "<table class=\"dataframe\">\n",
              "<caption>A tibble: 1 × 2</caption>\n",
              "<thead>\n",
              "\t<tr><th scope=col>lower_ci</th><th scope=col>upper_ci</th></tr>\n",
              "\t<tr><th scope=col>&lt;dbl&gt;</th><th scope=col>&lt;dbl&gt;</th></tr>\n",
              "</thead>\n",
              "<tbody>\n",
              "\t<tr><td>0.1091126</td><td>0.1651713</td></tr>\n",
              "</tbody>\n",
              "</table>\n"
            ],
            "text/markdown": "\nA tibble: 1 × 2\n\n| lower_ci &lt;dbl&gt; | upper_ci &lt;dbl&gt; |\n|---|---|\n| 0.1091126 | 0.1651713 |\n\n",
            "text/latex": "A tibble: 1 × 2\n\\begin{tabular}{ll}\n lower\\_ci & upper\\_ci\\\\\n <dbl> & <dbl>\\\\\n\\hline\n\t 0.1091126 & 0.1651713\\\\\n\\end{tabular}\n",
            "text/plain": [
              "  lower_ci  upper_ci \n",
              "1 0.1091126 0.1651713"
            ]
          },
          "metadata": {}
        }
      ],
      "source": [
        "# Allowing the data to be reproducible\n",
        "set.seed(100)\n",
        "\n",
        "#Obtaining a 95% Confidence interval for the mean difference between Console game sales and Handheld games sales (in that order)\n",
        "console_handheld_clt_ci <-\n",
        "     tibble(lower_ci = console_handheld_summary$mean_diff - (qnorm(0.975)*console_handheld_summary$null_std_error),\n",
        "            upper_ci = console_handheld_summary$mean_diff + (qnorm(0.975)*console_handheld_summary$null_std_error))\n",
        "\n",
        "console_handheld_clt_ci\n",
        "\n",
        "#Same thing except using t-distribution.  Gives very similar results due to our large sample size.\n",
        "clt_t_ci <-\n",
        "     tibble(lower_ci = console_handheld_summary$mean_diff - (qt(0.975, df=19848.0371669035)*console_handheld_summary$null_std_error),\n",
        "            upper_ci = console_handheld_summary$mean_diff + (qt(0.975, df=19848.0371669035)*console_handheld_summary$null_std_error))\n",
        "\n",
        "clt_t_ci"
      ]
    },
    {
      "cell_type": "markdown",
      "metadata": {
        "id": "2X82ki-vsLL7"
      },
      "source": [
        "(Tables 1.8 and 1.9)\n",
        "\n",
        "Here we have 95% confidence intervals for the mean difference between console game sales and handheld games sales using both the normal distribution and the t-distribution.  We used the mean difference and standard error that we found from the prior 2-sample t-test.  Both confidence intervals are very similar which makes sense since our sample size is so large and the t-distribution tends towards the normal distribution at larger sample sizes (larger tails start to thin out and become similar to that of the normal distribution as the sample size increases and the degrees of freedom increase).  Overall, these 2 confidence intervals support our hypothesis testing as the confidence intervals do not contain zero supporting that there is a meaningful difference.\n",
        "\n",
        "Here, we have 95% confidence intervals for the mean difference between console game sales and handheld game sales, using both the normal distribution and the t-distribution. The values we used come from the mean difference and standard error calculated in the previous 2-sample t-test.\n",
        "\n",
        "Both confidence intervals appear very similar to each other. This similarity is due to our substantial sample size, as the t-distribution starts resembling the normal distribution more closely as sample size and degrees of freedom increase.\n",
        "\n",
        "Overall, these 2 confidence intervals support our hypothesis testing as the confidence intervals do not contain zero, supporting our finding there is a meaningful difference in means."
      ]
    },
    {
      "cell_type": "code",
      "source": [
        "#Visualising the null distribution and where our observed test statistic lies\n",
        "null_diff_in_means |>\n",
        "ggplot() +\n",
        "ggtitle(\"Simulated vs Approximated distribution\") +\n",
        "geom_histogram(aes(x = stat/console_handheld_summary$null_std_error, y = after_stat(density)), bins = 25, color = 'white') +\n",
        "xlab(\"Test Statistics\") +\n",
        "geom_line(data = tibble(x = seq(-5, 5, 0.1),\n",
        "                             density = dt(x, 19848.0371669035)),\n",
        "               aes(x = x, y = density), color = \"red\", lwd = 2)"
      ],
      "metadata": {
        "id": "hBavekOJQglo",
        "outputId": "59c4dd80-9f9d-4bfe-f623-f7039ffe1a67",
        "colab": {
          "base_uri": "https://localhost:8080/",
          "height": 497
        }
      },
      "execution_count": null,
      "outputs": [
        {
          "output_type": "display_data",
          "data": {
            "text/plain": [
              "plot without title"
            ],
            "image/png": "[encoded data removed]"
          },
          "metadata": {
            "image/png": {
              "width": 600,
              "height": 480
            }
          }
        }
      ]
    },
    {
      "cell_type": "markdown",
      "source": [
        "(Figure 1.3)\n",
        "\n",
        "This graph displays the T-distribution with our relevant degrees of freedom superimposed on top of our simulated distribution. We can see that the approximation is quite close to the simulated distribution, showing the accuracy of the T-distribution and CLT under the right conditions."
      ],
      "metadata": {
        "id": "ogkNjBD7VCy1"
      }
    },
    {
      "cell_type": "markdown",
      "metadata": {
        "id": "UEYi4hVXsLL7"
      },
      "source": [
        "# Discussion\n",
        "\n",
        "**Results and Findings:**\n",
        "\n",
        "In our investigation, we first conducted a simulation-based hypothesis test to identify whether there is a difference in means between the popularity of handheld gaming consoles and home gaming consoles. From this, we found there is indeed a difference in means between the two platforms within our sample. To further test whether our difference is significant to our population, we conducted a two sample t-test. The p-values obtained from both tests were lower than our significance level of 0.05. After the hypothesis tests, we checked the 95% confidence intervals with both the normal distribution and t-distribution. The intervals are very similar and do not contain 0, also suggesting that there is a significant difference in the two groups. All of these findings allow us to reject the null hypothesis that there is no difference in the mean sales of the two groups.\n",
        "\n",
        "**Comparison between two hypothesis tests**\n",
        "\n",
        "Both simulated null distributions and asymptotic null distributions exhibit similar levels of accuracy within the context of this report. Simulated hypothesis testing offers the advantage of requiring minimal assumptions about the data, enabling comprehensive visualization and verification of each analytical step. However, this method is susceptible to random errors when dealing with small sample sizes.\n",
        "\n",
        "On the other hand, the t-test, a widely accepted technique for assessing significant differences in means, provides a more accessible approach. It generally demands less detailed explanation compared to simulated tests. Notably, as the sample size increases, the computational effort required for applying the t-test remains relatively stable, making it an efficient choice.\n",
        "\n",
        "For instances involving very large sample sizes, such as those illustrated in this report, mathematical approximations prove to be more suitable for quick statistical analysis. These approximations are significantly faster to perform compared with simulation-based methods. In the course of preparing this report, attempts to enhance the accuracy of simulated models by increasing the number of permutations led to substantial runtime increases and system crashes. In contrast, the execution time for applying the t-test is constant with growing sample sizes.\n",
        "\n",
        "**Impact:**\n",
        "\n",
        "This game sales analysis provides a meaningful understanding of the gaming market in North America since 2001. Our data finds that there is a significant difference in the mean game sales between the handheld and home console platforms. This finding urges companies interested in selling games to the North American population to carefully consider the platform that they choose to develop their games, as their sales may differ greatly.\n",
        "\n",
        "\n",
        "\n",
        "**Future Questions**\n",
        "\n",
        "Future questions this could lead to are:\n",
        "- If this inferential question used a dataset with a shorter range of years, would the results differ? Would this exploration be able to identify specific year ranges where handheld games were more popular than or were equally as popular than home consoles?\n",
        "\n",
        "- If this inferential question used a dataset with data from only the past few years, how would the results differ from this exploration (which contains data from 2001-2020)? Do console games remain more popular in 2020-2023, or has the trend changed?\n",
        "\n",
        "- Is the significant difference in means due to the popularity of specific consoles (Wii, PS), rather than its platform?\n",
        "- Other variations of this question could be investigating the effect of the company that manufactured the console or the genre of the game.\n",
        "\n",
        "- If we investigated another geographic region, such as Japan or Europe, would the results differ?\n"
      ]
    },
    {
      "cell_type": "markdown",
      "metadata": {
        "id": "nUwWS2s-RYZH"
      },
      "source": [
        "# References\n",
        "\n",
        "0. GregorySmith. (2016, October 26). Video game sales. Kaggle. https://www.kaggle.com/datasets/gregorut/videogamesales\n",
        "\n",
        "1. Owens, T. (2022, August 11). Gaming console ownership and purchase intentions among households in the United States as of May 2021. Statista. https://www.statista.com/statistics/1277164/purchase-video-game-consoles/\n",
        "\n",
        "2. Encyclopædia Britannica, inc. (2023, July 19). Xbox. Encyclopædia Britannica. https://www.britannica.com/technology/Xbox\n",
        "\n",
        "3. Ross, Sheldon M. (2017). Chapter 9 - Testing Statistical Hypothesis. Introductory Statistics (Fourth edition). https://doi.org/10.1016/B978-0-12-804317-2.00009-6"
      ]
    }
  ],
  "metadata": {
    "colab": {
      "provenance": []
    },
    "kernelspec": {
      "display_name": "R",
      "language": "R",
      "name": "ir"
    },
    "language_info": {
      "codemirror_mode": "r",
      "file_extension": ".r",
      "mimetype": "text/x-r-source",
      "name": "R",
      "pygments_lexer": "r",
      "version": "4.1.3"
    }
  },
  "nbformat": 4,
  "nbformat_minor": 0
}