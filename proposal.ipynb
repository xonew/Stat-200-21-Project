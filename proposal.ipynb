{
  "nbformat": 4,
  "nbformat_minor": 0,
  "metadata": {
    "colab": {
      "provenance": []
    },
    "kernelspec": {
      "name": "ir",
      "display_name": "R"
    },
    "language_info": {
      "name": "R"
    }
  },
  "cells": [
    {
      "cell_type": "markdown",
      "source": [
        "# *Title**"
      ],
      "metadata": {
        "id": "ZE9M1Lx0Q6Xs"
      }
    },
    {
      "cell_type": "markdown",
      "source": [
        "# Introduction\n",
        "\n",
        "test"
      ],
      "metadata": {
        "id": "1ZNFrTP8RMiA"
      }
    },
    {
      "cell_type": "markdown",
      "source": [
        "# Preliminary Results"
      ],
      "metadata": {
        "id": "dK6nKtt_RRZP"
      }
    },
    {
      "cell_type": "code",
      "source": [
        "#install.packages(\"tidymodels\")\n"
      ],
      "metadata": {
        "id": "2pPilml6XJQe",
        "outputId": "5f84e37d-41f7-4536-fcaf-3c2e0dfac80d",
        "colab": {
          "base_uri": "https://localhost:8080/"
        }
      },
      "execution_count": 4,
      "outputs": [
        {
          "output_type": "stream",
          "name": "stderr",
          "text": [
            "Installing package into ‘/usr/local/lib/R/site-library’\n",
            "(as ‘lib’ is unspecified)\n",
            "\n",
            "also installing the dependencies ‘shape’, ‘future.apply’, ‘numDeriv’, ‘progressr’, ‘SQUAREM’, ‘Rcpp’, ‘diagram’, ‘lava’, ‘listenv’, ‘parallelly’, ‘prodlim’, ‘future’, ‘warp’, ‘iterators’, ‘lhs’, ‘DiceDesign’, ‘patchwork’, ‘globals’, ‘clock’, ‘gower’, ‘ipred’, ‘timeDate’, ‘furrr’, ‘slider’, ‘foreach’, ‘GPfit’, ‘modelenv’, ‘dials’, ‘hardhat’, ‘infer’, ‘modeldata’, ‘parsnip’, ‘recipes’, ‘rsample’, ‘tune’, ‘workflows’, ‘workflowsets’, ‘yardstick’\n",
            "\n",
            "\n"
          ]
        }
      ]
    },
    {
      "cell_type": "code",
      "source": [
        "library(tidyverse)\n",
        "library(tidymodels)\n",
        "options(repr.plot.width = 10, repr.plot.height = 8)\n",
        "options(repr.matrix.max.rows = 6)"
      ],
      "metadata": {
        "id": "jZiSzkF4WtWY",
        "outputId": "b4f9bf5a-f872-4a3d-d9e5-c5478dcdb5d4",
        "colab": {
          "base_uri": "https://localhost:8080/"
        }
      },
      "execution_count": 5,
      "outputs": [
        {
          "output_type": "stream",
          "name": "stderr",
          "text": [
            "── \u001b[1mAttaching packages\u001b[22m ────────────────────────────────────── tidymodels 1.1.0 ──\n",
            "\n",
            "\u001b[32m✔\u001b[39m \u001b[34mbroom       \u001b[39m 1.0.5     \u001b[32m✔\u001b[39m \u001b[34mrsample     \u001b[39m 1.1.1\n",
            "\u001b[32m✔\u001b[39m \u001b[34mdials       \u001b[39m 1.2.0     \u001b[32m✔\u001b[39m \u001b[34mtune        \u001b[39m 1.1.1\n",
            "\u001b[32m✔\u001b[39m \u001b[34minfer       \u001b[39m 1.0.4     \u001b[32m✔\u001b[39m \u001b[34mworkflows   \u001b[39m 1.1.3\n",
            "\u001b[32m✔\u001b[39m \u001b[34mmodeldata   \u001b[39m 1.1.0     \u001b[32m✔\u001b[39m \u001b[34mworkflowsets\u001b[39m 1.0.1\n",
            "\u001b[32m✔\u001b[39m \u001b[34mparsnip     \u001b[39m 1.1.0     \u001b[32m✔\u001b[39m \u001b[34myardstick   \u001b[39m 1.2.0\n",
            "\u001b[32m✔\u001b[39m \u001b[34mrecipes     \u001b[39m 1.0.6     \n",
            "\n",
            "── \u001b[1mConflicts\u001b[22m ───────────────────────────────────────── tidymodels_conflicts() ──\n",
            "\u001b[31m✖\u001b[39m \u001b[34mscales\u001b[39m::\u001b[32mdiscard()\u001b[39m masks \u001b[34mpurrr\u001b[39m::discard()\n",
            "\u001b[31m✖\u001b[39m \u001b[34mdplyr\u001b[39m::\u001b[32mfilter()\u001b[39m   masks \u001b[34mstats\u001b[39m::filter()\n",
            "\u001b[31m✖\u001b[39m \u001b[34mrecipes\u001b[39m::\u001b[32mfixed()\u001b[39m  masks \u001b[34mstringr\u001b[39m::fixed()\n",
            "\u001b[31m✖\u001b[39m \u001b[34mdplyr\u001b[39m::\u001b[32mlag()\u001b[39m      masks \u001b[34mstats\u001b[39m::lag()\n",
            "\u001b[31m✖\u001b[39m \u001b[34myardstick\u001b[39m::\u001b[32mspec()\u001b[39m masks \u001b[34mreadr\u001b[39m::spec()\n",
            "\u001b[31m✖\u001b[39m \u001b[34mrecipes\u001b[39m::\u001b[32mstep()\u001b[39m   masks \u001b[34mstats\u001b[39m::step()\n",
            "\u001b[34m•\u001b[39m Use suppressPackageStartupMessages() to eliminate package startup messages\n",
            "\n"
          ]
        }
      ]
    },
    {
      "cell_type": "code",
      "source": [
        "# Grabbing the data\n",
        "url <- \"https://gist.githubusercontent.com/zhonglism/f146a9423e2c975de8d03c26451f841e/raw/f79e190df4225caed58bf360d8e20a9fa872b4ac/vgsales.csv\"\n",
        "#Reading data into R\n",
        "gaming_dataset <- read_csv(url)\n",
        "#Selecting columns we need for our analysis\n",
        "gaming_data <- gaming_dataset %>%\n",
        "filter(\n",
        "Platform %in% c(\"Wii\", \"DS\"),\n",
        "NA_Sales > 1,\n",
        "JP_Sales > 1) %>%\n",
        "select(Platform, NA_Sales, JP_Sales)\n",
        "\n",
        "gaming_data"
      ],
      "metadata": {
        "id": "PAap73xZW5BP",
        "outputId": "396db475-e1f1-4622-f1f0-91b55700b402",
        "colab": {
          "base_uri": "https://localhost:8080/",
          "height": 461
        }
      },
      "execution_count": 25,
      "outputs": [
        {
          "output_type": "stream",
          "name": "stderr",
          "text": [
            "\u001b[1mRows: \u001b[22m\u001b[34m16598\u001b[39m \u001b[1mColumns: \u001b[22m\u001b[34m11\u001b[39m\n",
            "\u001b[36m──\u001b[39m \u001b[1mColumn specification\u001b[22m \u001b[36m────────────────────────────────────────────────────────\u001b[39m\n",
            "\u001b[1mDelimiter:\u001b[22m \",\"\n",
            "\u001b[31mchr\u001b[39m (5): Name, Platform, Year, Genre, Publisher\n",
            "\u001b[32mdbl\u001b[39m (6): Rank, NA_Sales, EU_Sales, JP_Sales, Other_Sales, Global_Sales\n",
            "\n",
            "\u001b[36mℹ\u001b[39m Use `spec()` to retrieve the full column specification for this data.\n",
            "\u001b[36mℹ\u001b[39m Specify the column types or set `show_col_types = FALSE` to quiet this message.\n"
          ]
        },
        {
          "output_type": "display_data",
          "data": {
            "text/html": [
              "<table class=\"dataframe\">\n",
              "<caption>A tibble: 31 × 3</caption>\n",
              "<thead>\n",
              "\t<tr><th scope=col>Platform</th><th scope=col>NA_Sales</th><th scope=col>JP_Sales</th></tr>\n",
              "\t<tr><th scope=col>&lt;chr&gt;</th><th scope=col>&lt;dbl&gt;</th><th scope=col>&lt;dbl&gt;</th></tr>\n",
              "</thead>\n",
              "<tbody>\n",
              "\t<tr><td>Wii</td><td>41.49</td><td>3.77</td></tr>\n",
              "\t<tr><td>Wii</td><td>15.85</td><td>3.79</td></tr>\n",
              "\t<tr><td>Wii</td><td>15.75</td><td>3.28</td></tr>\n",
              "\t<tr><td>⋮</td><td>⋮</td><td>⋮</td></tr>\n",
              "\t<tr><td>Wii</td><td>1.87</td><td>1.32</td></tr>\n",
              "\t<tr><td>DS </td><td>1.57</td><td>1.19</td></tr>\n",
              "\t<tr><td>DS </td><td>1.47</td><td>1.10</td></tr>\n",
              "</tbody>\n",
              "</table>\n"
            ],
            "text/markdown": "\nA tibble: 31 × 3\n\n| Platform &lt;chr&gt; | NA_Sales &lt;dbl&gt; | JP_Sales &lt;dbl&gt; |\n|---|---|---|\n| Wii | 41.49 | 3.77 |\n| Wii | 15.85 | 3.79 |\n| Wii | 15.75 | 3.28 |\n| ⋮ | ⋮ | ⋮ |\n| Wii | 1.87 | 1.32 |\n| DS  | 1.57 | 1.19 |\n| DS  | 1.47 | 1.10 |\n\n",
            "text/latex": "A tibble: 31 × 3\n\\begin{tabular}{lll}\n Platform & NA\\_Sales & JP\\_Sales\\\\\n <chr> & <dbl> & <dbl>\\\\\n\\hline\n\t Wii & 41.49 & 3.77\\\\\n\t Wii & 15.85 & 3.79\\\\\n\t Wii & 15.75 & 3.28\\\\\n\t ⋮ & ⋮ & ⋮\\\\\n\t Wii & 1.87 & 1.32\\\\\n\t DS  & 1.57 & 1.19\\\\\n\t DS  & 1.47 & 1.10\\\\\n\\end{tabular}\n",
            "text/plain": [
              "   Platform NA_Sales JP_Sales\n",
              "1  Wii      41.49    3.77    \n",
              "2  Wii      15.85    3.79    \n",
              "3  Wii      15.75    3.28    \n",
              "⋮  ⋮        ⋮        ⋮       \n",
              "29 Wii      1.87     1.32    \n",
              "30 DS       1.57     1.19    \n",
              "31 DS       1.47     1.10    "
            ]
          },
          "metadata": {}
        }
      ]
    },
    {
      "cell_type": "code",
      "source": [
        "#Comparing the sampling distributions of DS and Wii in North America\n",
        "gaming_data_dist_NA <-\n",
        "gaming_data %>%\n",
        "ggplot() +\n",
        "geom_histogram(aes(x = NA_Sales),binwidth = 2, color = 'white') +\n",
        "facet_wrap(~ Platform) +\n",
        "xlab(\"Copies sold\") +\n",
        "ylab(\"Number of games\") +\n",
        "ggtitle(\"Games Sold per Platform in North America\")+\n",
        "theme(text = element_text(size = 22))\n",
        "gaming_data_dist_NA"
      ],
      "metadata": {
        "id": "uLt8w59rW7CI",
        "outputId": "eed7f0b4-dc73-40c9-857c-1a11b3ae3130",
        "colab": {
          "base_uri": "https://localhost:8080/",
          "height": 497
        }
      },
      "execution_count": 26,
      "outputs": [
        {
          "output_type": "display_data",
          "data": {
            "text/plain": [
              "plot without title"
            ],
            "image/png": "[encoded data removed]"
          },
          "metadata": {
            "image/png": {
              "width": 600,
              "height": 480
            }
          }
        }
      ]
    },
    {
      "cell_type": "code",
      "source": [
        "#Comparing the sampling distributions of DS and Wii in Japan\n",
        "gaming_data_dist_JP <-\n",
        "\n",
        "3\n",
        "\n",
        "gaming_data %>%\n",
        "ggplot() +\n",
        "geom_histogram(aes(x = JP_Sales), binwidth = 1, color = 'white') +\n",
        "facet_wrap(~ Platform) +\n",
        "xlab(\"Platform\") +\n",
        "ylab(\"Games Sold\")\n",
        "ggtitle(\"Games Sold per Platform in Japan\")+\n",
        "theme(text = element_text(size = 22))\n",
        "gaming_data_dist_JP"
      ],
      "metadata": {
        "id": "j2-cIVavW9rX",
        "outputId": "bb38d2e9-bdfd-414d-f974-feb618dd3f52",
        "colab": {
          "base_uri": "https://localhost:8080/",
          "height": 532
        }
      },
      "execution_count": 27,
      "outputs": [
        {
          "output_type": "display_data",
          "data": {
            "text/plain": [
              "NULL"
            ]
          },
          "metadata": {}
        },
        {
          "output_type": "display_data",
          "data": {
            "text/html": [
              "3"
            ],
            "text/markdown": "3",
            "text/latex": "3",
            "text/plain": [
              "[1] 3"
            ]
          },
          "metadata": {}
        },
        {
          "output_type": "display_data",
          "data": {
            "text/plain": [
              "plot without title"
            ],
            "image/png": "[encoded data removed]"
          },
          "metadata": {
            "image/png": {
              "width": 600,
              "height": 480
            }
          }
        }
      ]
    },
    {
      "cell_type": "code",
      "source": [
        "#calculating the sample means\n",
        "sample_means <- gaming_data |>\n",
        "    group_by(Platform) |>\n",
        "    summarise(JP_Sales_Mean = mean(JP_Sales),\n",
        "              NA_Sales_Mean = mean(NA_Sales))\n",
        "sample_means"
      ],
      "metadata": {
        "id": "xctnCeyZa6PM",
        "outputId": "4e008767-3711-4174-ff4b-2c56eba04358",
        "colab": {
          "base_uri": "https://localhost:8080/",
          "height": 161
        }
      },
      "execution_count": 28,
      "outputs": [
        {
          "output_type": "display_data",
          "data": {
            "text/html": [
              "<table class=\"dataframe\">\n",
              "<caption>A tibble: 2 × 3</caption>\n",
              "<thead>\n",
              "\t<tr><th scope=col>Platform</th><th scope=col>JP_Sales_Mean</th><th scope=col>NA_Sales_Mean</th></tr>\n",
              "\t<tr><th scope=col>&lt;chr&gt;</th><th scope=col>&lt;dbl&gt;</th><th scope=col>&lt;dbl&gt;</th></tr>\n",
              "</thead>\n",
              "<tbody>\n",
              "\t<tr><td>DS </td><td>3.252222</td><td> 4.468889</td></tr>\n",
              "\t<tr><td>Wii</td><td>2.683077</td><td>11.028462</td></tr>\n",
              "</tbody>\n",
              "</table>\n"
            ],
            "text/markdown": "\nA tibble: 2 × 3\n\n| Platform &lt;chr&gt; | JP_Sales_Mean &lt;dbl&gt; | NA_Sales_Mean &lt;dbl&gt; |\n|---|---|---|\n| DS  | 3.252222 |  4.468889 |\n| Wii | 2.683077 | 11.028462 |\n\n",
            "text/latex": "A tibble: 2 × 3\n\\begin{tabular}{lll}\n Platform & JP\\_Sales\\_Mean & NA\\_Sales\\_Mean\\\\\n <chr> & <dbl> & <dbl>\\\\\n\\hline\n\t DS  & 3.252222 &  4.468889\\\\\n\t Wii & 2.683077 & 11.028462\\\\\n\\end{tabular}\n",
            "text/plain": [
              "  Platform JP_Sales_Mean NA_Sales_Mean\n",
              "1 DS       3.252222       4.468889    \n",
              "2 Wii      2.683077      11.028462    "
            ]
          },
          "metadata": {}
        }
      ]
    },
    {
      "cell_type": "markdown",
      "source": [
        "# Methods: Plan"
      ],
      "metadata": {
        "id": "aVGFdhERRYxz"
      }
    },
    {
      "cell_type": "markdown",
      "source": [
        "# References"
      ],
      "metadata": {
        "id": "nUwWS2s-RYZH"
      }
    }
  ]
}