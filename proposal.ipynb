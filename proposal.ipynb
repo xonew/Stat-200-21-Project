{
  "nbformat": 4,
  "nbformat_minor": 0,
  "metadata": {
    "colab": {
      "provenance": []
    },
    "kernelspec": {
      "name": "ir",
      "display_name": "R"
    },
    "language_info": {
      "name": "R"
    }
  },
  "cells": [
    {
      "cell_type": "markdown",
      "source": [
        "# *Title**"
      ],
      "metadata": {
        "id": "ZE9M1Lx0Q6Xs"
      }
    },
    {
      "cell_type": "markdown",
      "source": [
        "# Introduction\n",
        "\n",
        "test"
      ],
      "metadata": {
        "id": "1ZNFrTP8RMiA"
      }
    },
    {
      "cell_type": "markdown",
      "source": [
        "# Preliminary Results"
      ],
      "metadata": {
        "id": "dK6nKtt_RRZP"
      }
    },
    {
      "cell_type": "markdown",
      "source": [
        "# Methods: Plan"
      ],
      "metadata": {
        "id": "aVGFdhERRYxz"
      }
    },
    {
      "cell_type": "markdown",
      "source": [
        "# References"
      ],
      "metadata": {
        "id": "nUwWS2s-RYZH"
      }
    }
  ]
}