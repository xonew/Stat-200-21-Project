{
  "nbformat": 4,
  "nbformat_minor": 0,
  "metadata": {
    "colab": {
      "provenance": [],
      "authorship_tag": "ABX9TyO2DHDdWPsV1QeJ1den0Pj8"
    },
    "kernelspec": {
      "name": "ir",
      "display_name": "R"
    },
    "language_info": {
      "name": "R"
    }
  },
  "cells": [
    {
      "cell_type": "markdown",
      "source": [
        "# *Title**"
      ],
      "metadata": {
        "id": "ZE9M1Lx0Q6Xs"
      }
    },
    {
      "cell_type": "markdown",
      "source": [
        "# Introduction"
      ],
      "metadata": {
        "id": "1ZNFrTP8RMiA"
      }
    },
    {
      "cell_type": "markdown",
      "source": [
        "# Preliminary Results"
      ],
      "metadata": {
        "id": "dK6nKtt_RRZP"
      }
    },
    {
      "cell_type": "markdown",
      "source": [
        "# Methods: Plan"
      ],
      "metadata": {
        "id": "aVGFdhERRYxz"
      }
    },
    {
      "cell_type": "markdown",
      "source": [
        "# References"
      ],
      "metadata": {
        "id": "nUwWS2s-RYZH"
      }
    }
  ]
}