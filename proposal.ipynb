{
 "cells": [
  {
   "cell_type": "markdown",
   "metadata": {
    "id": "ZE9M1Lx0Q6Xs"
   },
   "source": [
    "# Household or Handheld: A statistical report on the mean sales of handheld devices vs home consoles."
   ]
  },
  {
   "cell_type": "markdown",
   "metadata": {
    "id": "1ZNFrTP8RMiA"
   },
   "source": [
    "# Introduction\n",
    "\n",
    "While some individuals enjoy the convenience and lower price tag of handheld games such as the DS, others may prefer the traditional experience that home gaming consoles like Wii provide.  As the video game industry continues to grow, gaming companies can gain insight by looking at the popularity of these two platforms to decide which direction to launch their next project.\n",
    "\n",
    "Due to the high popularity of console gaming in North America, with over half of American households owning a gaming console *(1)*, we expect there will be a significant difference in the mean game sales, with the mean sales of console video games being higher than that of handheld games. With that being said, we are not confident enough in this claim to make our testing one-sided, therefore, in our project we will be exploring the research question, \"Is there a difference in the popularity of handheld devices and home consoles for gaming in North America?\".\n",
    "\n",
    "To answer this inferential question, the dataset we will be investigating is the \"Video Game Sales\" dataset found on Kaggle, by Gregory Smith, with our location parameter being the mean and the scale parameter being the standard deviation. The dataset consists of the sales data for 10,129 games released in North America from 1980 to 2020. However, we chose to use 2001 as a cutoff year because it is the release year of modern milestones, the Xbox (home system), and the Game Boy Advance (handheld). *(2)* There are 11 variables, but we are only interested in North American sales in millions and the platform. There are no missing values in this dataset.\n"
   ]
  },
  {
   "cell_type": "markdown",
   "metadata": {
    "id": "dK6nKtt_RRZP"
   },
   "source": [
    "# Methods and Results"
   ]
  },
  {
   "cell_type": "code",
   "execution_count": null,
   "metadata": {
    "colab": {
     "base_uri": "https://localhost:8080/"
    },
    "id": "2pPilml6XJQe",
    "outputId": "fef6537d-15c0-4fe9-e27a-b12ad140247f"
   },
   "outputs": [
    {
     "name": "stderr",
     "output_type": "stream",
     "text": [
      "also installing the dependencies ‘tzdb’, ‘cpp11’, ‘lifecycle’, ‘pillar’, ‘tidyselect’, ‘vctrs’, ‘clock’, ‘stringr’, ‘modelenv’, ‘broom’, ‘cli’, ‘conflicted’, ‘dials’, ‘dplyr’, ‘ggplot2’, ‘hardhat’, ‘infer’, ‘modeldata’, ‘parsnip’, ‘purrr’, ‘recipes’, ‘rlang’, ‘rsample’, ‘tibble’, ‘tidyr’, ‘tune’, ‘workflows’, ‘workflowsets’, ‘yardstick’\n",
      "\n",
      "\n"
     ]
    }
   ],
   "source": [
    "# uncomment and run if tidymodels does not exist\n",
    "install.packages(\"tidymodels\")"
   ]
  },
  {
   "cell_type": "code",
   "execution_count": null,
   "metadata": {
    "id": "jZiSzkF4WtWY"
   },
   "outputs": [],
   "source": [
    "# Loading the packages we need\n",
    "library(tidyverse)\n",
    "library(tidymodels)\n",
    "\n",
    "options(repr.plot.width = 10, repr.plot.height = 8)\n",
    "options(repr.matrix.max.rows = 6)"
   ]
  },
  {
   "cell_type": "code",
   "execution_count": null,
   "metadata": {
    "colab": {
     "base_uri": "https://localhost:8080/",
     "height": 459
    },
    "id": "PAap73xZW5BP",
    "outputId": "d87ad410-5ed7-4faf-c23a-6a7b3a2dd5d1"
   },
   "outputs": [],
   "source": [
    "# Allows for the data to be reproducible\n",
    "set.seed(100)\n",
    "\n",
    "# Grabbing the data\n",
    "url <- \"https://raw.githubusercontent.com/xonew/Stat-201-21-Project/main/vgsales.csv\"\n",
    "\n",
    "#Reading data into R\n",
    "gaming_dataset <- read_csv(url)\n",
    "\n",
    "#Selecting columns we need for our analysis\n",
    "gaming_data <- gaming_dataset %>%\n",
    "filter(\n",
    "Year > 2001,\n",
    "NA_Sales > 0) %>%\n",
    "select(Platform, NA_Sales) |>\n",
    "  mutate(Platform = if_else(Platform %in% c(\"DS\", \"GBA\", \"GB\", \"PSV\", \"PSP\"), \"Handheld\", \"Home_Console\"))\n",
    "\n",
    "gaming_data"
   ]
  },
  {
   "cell_type": "markdown",
   "metadata": {
    "id": "zghBlFGHq1zb"
   },
   "source": [
    "(Table 1: Table with tidy data)\n",
    "\n",
    "We are interested in two columns:\n",
    "- **Platform**: Platform on which video game is played (Home_Console or Handheld)\n",
    "- **NA_Sales**: North American sales (in millions)\n"
   ]
  },
  {
   "cell_type": "code",
   "execution_count": null,
   "metadata": {
    "colab": {
     "base_uri": "https://localhost:8080/",
     "height": 497
    },
    "id": "DsX38WlhnYyy",
    "outputId": "4b180246-cba6-4004-c55f-bce9e50134bd"
   },
   "outputs": [],
   "source": [
    "#Comparing the sampling distributions of handheld and home console systems in North America\n",
    "gaming_data_dist_na <-\n",
    "gaming_data %>%\n",
    "  ggplot() +\n",
    "  geom_histogram(aes(x = NA_Sales), bins = 50) +\n",
    "  facet_wrap(~ Platform) +\n",
    "  xlab(\"Copies sold (Millions)\") +\n",
    "  ylab(\"Number of game titles\") +\n",
    "  ggtitle(\"Games Sold per Platform\")+\n",
    "  theme(text = element_text(size = 22))\n",
    "gaming_data_dist_na"
   ]
  },
  {
   "cell_type": "markdown",
   "metadata": {
    "id": "FebGTmukthsg"
   },
   "source": [
    "(Figure 1.1: Sampling distribution for games for each platform)\n",
    "\n",
    "As we can see from *Figure 1.1*, the sampling distributions for both platforms are heavily right-skewed unimodal distributions. The number of total sales for home console systems eclipses that of the sales for handheld console systems, but the centers of the distributions appear to be fairly close to one another. Note that there are values on the right of the graph, but they are not visible due to being too small."
   ]
  },
  {
   "cell_type": "code",
   "execution_count": null,
   "metadata": {
    "colab": {
     "base_uri": "https://localhost:8080/",
     "height": 161
    },
    "id": "xZ-Bd0I52HFi",
    "outputId": "c81fbe4d-fb68-4731-e81c-600dfdb0f351"
   },
   "outputs": [],
   "source": [
    "# Grabbing total sales and titles\n",
    "total_sales <- sum(gaming_data$NA_Sales)\n",
    "total_titles <- NROW(gaming_data)\n",
    "\n",
    "# Computing summary statistics\n",
    "sum_stats <-\n",
    "  gaming_data |>\n",
    "  group_by(Platform) |>\n",
    "  summarise(Num_Titles = n(),\n",
    "            Sales_Total = sum(NA_Sales),\n",
    "            Titles_Proportion = Num_Titles/total_titles,\n",
    "            Sales_Proportion = Sales_Total/total_sales,\n",
    "            Sales_Mean = mean(NA_Sales),\n",
    "            Sales_SD = sd(NA_Sales))\n",
    "Means_Diff  <- c(sum_stats$Sales_Mean[2]-sum_stats$Sales_Mean[1], \"x\")\n",
    "\n",
    "# Degrees of freedom for our two sample t-test\n",
    "Deg_Freedom <- c((sum_stats$Sales_SD[1]/sum_stats$Num_Titles[1] + sum_stats$Sales_SD[2]/sum_stats$Num_Titles[2])^2/(\n",
    "                            sum_stats$Sales_SD[1]^4/(sum_stats$Num_Titles[1]^2*(sum_stats$Num_Titles[1])) +\n",
    "                              sum_stats$Sales_SD[2]^4/(sum_stats$Num_Titles[2]^2*(sum_stats$Num_Titles[2]))), \"x\")\n",
    "\n",
    "# Displaying the text\n",
    "cbind(sum_stats, Means_Diff, Deg_Freedom)"
   ]
  },
  {
   "cell_type": "markdown",
   "metadata": {
    "id": "AknxBN9Yuo2i"
   },
   "source": [
    "(Table 1.2: Summary statistics for the two platforms)\n",
    "\n",
    "The total number of titles and sales for each type of console are shown, as well as their proportion of titles and sales. We can see that the number of titles for handheld systems is under-represented by their sales, which points to a difference in means.\n",
    "\n",
    "Sample estimates for our center and scale variables have also been calculated: the mean and standard deviation, respectively. We chose to use these types of parameters because they are sensitive to outliers, which corresponds well to our heavily skewed dataset.\n",
    "\n",
    "Finally, we have an estimate of our parameter of interest: the difference in means. It is not zero, but whether it is \"significantly not zero\" needs to be investigated. We also have calculated the degrees of freedom that will be used in the upcoming t-test."
   ]
  },
  {
   "cell_type": "markdown",
   "metadata": {
    "id": "49qk-jnpsLL3"
   },
   "source": [
    "### Hypothesis Testing\n",
    "\n",
    "This report seems to be trustworthy because the dataset is quite large, uses current data (2001-2015), and the data points are distinct. The plots and statistics we have provided thus far provide an estimate of our relevant parameters but they are not enough by itself to prove a significant difference in means.\n",
    "\n",
    "In order to determine whether there is a significant difference in means, we will conduct a two-sided simulation-based hypothesis test using permutation. We will also conduct a two-sided two-sample t-test using t test with 19848 degrees of freedom. The Central Limit Theorem will apply as our large sample size; we need this due to our highly skewed sample.\n",
    "\n",
    "The p-values of both hypothesis tests will be tested against a significance level of 0.05 as this is the most common significance level used in the sciences *(3)*.\n",
    "\n",
    "Null hypothesis (H0): There is no significant difference in means between handheld and home console sales in North America.  \n",
    "\n",
    "                                                    𝐻0: 𝜇1 − 𝜇2 = 𝑑0\n",
    "\n",
    "Alternative hypothesis (H1): There is a significant difference in means between handheld and home console sales in North America.  \n",
    "\n",
    "                                                    𝐻1: 𝜇1 − 𝜇2 ≠ 𝑑0\n"
   ]
  },
  {
   "cell_type": "markdown",
   "metadata": {
    "id": "lu9GYEdQsLL3"
   },
   "source": [
    "**Simulation Based Hypothesis Test Using Permutation**"
   ]
  },
  {
   "cell_type": "code",
   "execution_count": null,
   "metadata": {
    "colab": {
     "base_uri": "https://localhost:8080/",
     "height": 129
    },
    "id": "vVpLgjopsLL3",
    "outputId": "47ef7184-68a1-4fde-ead3-ddf636ab258b"
   },
   "outputs": [],
   "source": [
    "#calculating the observed mean difference between Console game sales and handheld game sales\n",
    "obs_mean_sales_diff <- gaming_data |>\n",
    "specify(formula = NA_Sales ~ Platform) |>\n",
    "calculate(stat=\"diff in means\", order=c(\"Home_Console\", \"Handheld\"))\n",
    "\n",
    "obs_mean_sales_diff"
   ]
  },
  {
   "cell_type": "markdown",
   "metadata": {
    "id": "LY5g4uEKsLL3"
   },
   "source": [
    "(Table 1.3: Mean difference in sales between the two consoles)"
   ]
  },
  {
   "cell_type": "code",
   "execution_count": null,
   "metadata": {
    "colab": {
     "base_uri": "https://localhost:8080/",
     "height": 286
    },
    "id": "7PgXTKFFsLL4",
    "outputId": "1910889a-879d-413b-e14a-bc7abcfd16fe"
   },
   "outputs": [],
   "source": [
    "#Simulating the null distribution\n",
    "null_diff_in_means <- gaming_data |>\n",
    "specify(formula = NA_Sales ~ Platform) |>\n",
    "hypothesize(null=\"independence\") |>\n",
    "generate(reps=1000, type = \"permute\") |>\n",
    "calculate(stat=\"diff in means\", order=c(\"Home_Console\", \"Handheld\"))\n",
    "\n",
    "head(null_diff_in_means)"
   ]
  },
  {
   "cell_type": "markdown",
   "metadata": {
    "id": "jn6kL4musLL4"
   },
   "source": [
    "(Tables 1.4: Null difference in means)\n",
    "\n",
    "Here we have used the infer package to obtain the observed mean difference between console and handheld games (in that order).  We then simulated the null distribution using permutation with the infer package.  We did so using 1000 different permutations, We then simulated the null distribution using the infer package.  We did so using 1000 different permutations, where in each permutation the handheld games and console games are randomly assigned to different values from the NA_Sales column and the mean difference is calculated in each sample."
   ]
  },
  {
   "cell_type": "code",
   "execution_count": null,
   "metadata": {
    "colab": {
     "base_uri": "https://localhost:8080/",
     "height": 497
    },
    "id": "9EnwOKyKsLL4",
    "outputId": "373f3fa0-ce74-42d5-8ffb-142af99b2a1a"
   },
   "outputs": [],
   "source": [
    "# Allowing the data to be reproducible\n",
    "set.seed(100)\n",
    "\n",
    "#Visualising the null distribution and where our obersved test statistic lies\n",
    "diff_in_means_plot <- null_diff_in_means |>\n",
    "visualize() +\n",
    "shade_p_value(obs_stat= obs_mean_sales_diff, direction= \"both\") +\n",
    "xlab(\"Difference in Means\")\n",
    "\n",
    "diff_in_means_plot"
   ]
  },
  {
   "cell_type": "markdown",
   "metadata": {
    "id": "6vBQd-e3sLL4"
   },
   "source": [
    "(Figure 1.2)\n",
    "\n",
    "Here we visualise this simulated null distribution via a histogram and shade the values that are more extreme than the observed test statistic in red."
   ]
  },
  {
   "cell_type": "code",
   "execution_count": null,
   "metadata": {
    "colab": {
     "base_uri": "https://localhost:8080/",
     "height": 202
    },
    "id": "05iUxvxssLL5",
    "outputId": "1ba8576c-69e3-4147-e6ea-91ef2625541e"
   },
   "outputs": [],
   "source": [
    "# Allowing the data to be reproducible\n",
    "set.seed(100)\n",
    "\n",
    "#obtaining p-value\n",
    "p_value <- null_diff_in_means %>%\n",
    "  get_p_value(obs_stat = obs_mean_sales_diff, direction = \"both\")\n",
    "\n",
    "p_value"
   ]
  },
  {
   "cell_type": "markdown",
   "metadata": {
    "id": "37FOqjPtsLL5"
   },
   "source": [
    "(Table 1.5)\n",
    "\n",
    "Here we have obtained the p-value from our simulated hypothesis testing. It is much smaller than 0.01 (it shows 0 but the value is rounded since it is so small), therefore at our signficance level of 0.05 we will reject the null hypothesis that the mean sales of handheld games is equivalent to that of console games in North America. Our evidence supports the alternative hypothesis that handheld game sales are different than console game sales in North America. This simulation based hypothesis test is very handy as it relies on very few assumptions, however the next hypothesis test we will do is a little more strict."
   ]
  },
  {
   "cell_type": "markdown",
   "metadata": {
    "id": "AjSqt7wOsLL5"
   },
   "source": [
    "**Hypothesis Testing using 2 Sample T-Test**"
   ]
  },
  {
   "cell_type": "markdown",
   "metadata": {
    "id": "2RV3RvIMsLL5"
   },
   "source": [
    "This test is dependent on the data being distributed normally, so it's important to ensure that the conditions of the central limit theorem are satisfied.The underlying data is skewed, but this is okay as the sample size is extremely large so the CLT will apply. Secondly, our data is a random sample of obervations.  Third, the observations in the sample are independent as, generally, none of the game sales affect the sales of the other video games. Knowing all of this, the central limit theorem should apply and thus it is safe to assume our data will be roughly normally distributed."
   ]
  },
  {
   "cell_type": "code",
   "execution_count": null,
   "metadata": {
    "colab": {
     "base_uri": "https://localhost:8080/",
     "height": 129
    },
    "id": "_uUcoYl4sLL6",
    "outputId": "4cfe53ea-246d-40cd-878c-2585a6d2fbe1"
   },
   "outputs": [],
   "source": [
    "# Allowing the data to be reproducible\n",
    "set.seed(100)\n",
    "\n",
    "#Computing Summary Statistics (similar to sum stats but mure concise, also comupting variance instead of standard deviation)\n",
    "console_handheld_summary <- gaming_data %>%\n",
    "     select(Platform, NA_Sales) %>%\n",
    "     group_by(Platform) %>%\n",
    "     summarise(n = n(),\n",
    "               mean = mean(NA_Sales),\n",
    "               var = var(NA_Sales),\n",
    "               `.groups` = \"drop\") %>%\n",
    "     pivot_wider(names_from = Platform, values_from = c(n, mean, var))\n",
    "\n",
    "#Calculating and adding a column that shows the observed mean difference\n",
    "console_handheld_summary <- console_handheld_summary %>%\n",
    "mutate(mean_diff=mean_Home_Console-mean_Handheld)\n",
    "\n",
    "#Caclulating the standard error under the null and adding a column that shows it\n",
    "console_handheld_summary <- console_handheld_summary %>%\n",
    "mutate(null_std_error= sqrt(var_Home_Console/n_Home_Console+var_Handheld/n_Handheld))\n",
    "\n",
    "#Calculating the test statistic and adding a column that shows it\n",
    "console_handheld_summary <- console_handheld_summary %>%\n",
    "mutate(test_statistic=mean_diff/null_std_error)\n",
    "\n",
    "#Calculating the p-value and adding a column that shows it\n",
    "console_handheld_summary <- console_handheld_summary %>%\n",
    "mutate(p_value=2*(1-pt(test_statistic, df=19848.0371669035)))\n",
    "\n",
    "\n",
    "console_handheld_summary"
   ]
  },
  {
   "cell_type": "markdown",
   "metadata": {
    "id": "v-lmkcpEsLL6"
   },
   "source": [
    "(Table 1.6)\n",
    "\n",
    "Here we start by summarizing the number of console and handheld games that are sold, the mean sales of console and handheld games, as well as the variance of sales of console and handheld games.  Next, we calculate the mean difference by subtracting the mean sales of a handheld game from that of a console game.  After this, we calculate the standard error under the null distribution which follows the formula $sqrt(s_1^2/n_1+s_2^2/n_2).$  We then calculate the test statistic by taking the mean difference and dividing it by the standard error.  Finally, we calculate the p-value by putting our test statistic and degrees of freedom (from earlier) in the pt function which shows the probability of getting a more extreme value than our test statistic (on either side) under the t-distribution.  The t-distribution is used here since we do not have the population standard deviation and thus have to estimate it based on our sample.  As in our simulation based hypothesis test the p-value is extremely small (smaller than 0.01) and thus at our signficance level of 0.05 we will reject the null hypothesis that the mean sales of handheld games is equivalent to that of console games in North America in favour of the alternative hypothesis that handheld game sales are different than console game sales in North America."
   ]
  },
  {
   "cell_type": "code",
   "execution_count": null,
   "metadata": {
    "colab": {
     "base_uri": "https://localhost:8080/",
     "height": 129
    },
    "id": "6MJ_1WwPsLL6",
    "outputId": "84bf35ca-81a3-4725-c2d5-6a4e8658e2a8"
   },
   "outputs": [],
   "source": [
    "# Allowing the data to be reproducible\n",
    "set.seed(100)\n",
    "\n",
    "#Creating a dataset with only console games\n",
    "console <- gaming_data |>\n",
    "select(Platform, NA_Sales) |>\n",
    "filter(Platform==\"Home_Console\")\n",
    "\n",
    "#Creating a dataset with only handheld games\n",
    "handheld <- gaming_data |>\n",
    "select(Platform, NA_Sales) |>\n",
    "filter(Platform==\"Handheld\")\n",
    "\n",
    "#Doing a T-test on our data (Yields same results as before but used it here to ensure our numbers were correct)\n",
    "console_handheld_t_test <- tidy(\n",
    "        t.test(x = console$NA_Sales,\n",
    "               y = handheld$NA_Sales,\n",
    "               alternative = \"two.sided\"))\n",
    "\n",
    "console_handheld_t_test"
   ]
  },
  {
   "cell_type": "markdown",
   "metadata": {
    "id": "NoQWJJ3FsLL6"
   },
   "source": [
    "(Table 1.7)\n",
    "\n",
    "Here we have confirmed our results our 2 sample t-test using a more straight forward t.test function.  You can see the test statistic is the same, but one benefit is that we get a more precise, unrounded p-value of 1.111168e-21. Either way supports our results."
   ]
  },
  {
   "cell_type": "markdown",
   "metadata": {
    "id": "0NV8bX1ZsLL6"
   },
   "source": [
    "**95% Confidence Interval**\n",
    "\n",
    "Now, we will obtain a 95% confidence interval using the central limit theorem to support our hypothesis test results. 95% is the chosen interval so that the interval is consistent with the hypothesis test's significance level of 0.05."
   ]
  },
  {
   "cell_type": "code",
   "execution_count": null,
   "metadata": {
    "colab": {
     "base_uri": "https://localhost:8080/",
     "height": 241
    },
    "id": "uHIqfeDlsLL6",
    "outputId": "1477d4bd-416e-4c53-a4d5-ee969e5299d5"
   },
   "outputs": [],
   "source": [
    "# Allowing the data to be reproducible\n",
    "set.seed(100)\n",
    "\n",
    "#Obtaining a 95% Confidence interval for the mean difference between Console game sales and Handheld games sales (in that order)\n",
    "console_handheld_clt_ci <-\n",
    "     tibble(lower_ci = console_handheld_summary$mean_diff - (qnorm(0.975)*console_handheld_summary$null_std_error),\n",
    "            upper_ci = console_handheld_summary$mean_diff + (qnorm(0.975)*console_handheld_summary$null_std_error))\n",
    "\n",
    "console_handheld_clt_ci\n",
    "\n",
    "#Same thing except using t-distribution.  Gives very similar results due to our large sample size.\n",
    "clt_t_ci <-\n",
    "     tibble(lower_ci = console_handheld_summary$mean_diff - (qt(0.975, df=19848.0371669035)*console_handheld_summary$null_std_error),\n",
    "            upper_ci = console_handheld_summary$mean_diff + (qt(0.975, df=19848.0371669035)*console_handheld_summary$null_std_error))\n",
    "\n",
    "clt_t_ci"
   ]
  },
  {
   "cell_type": "markdown",
   "metadata": {
    "id": "2X82ki-vsLL7"
   },
   "source": [
    "(Tables 1.8 and 1.9)\n",
    "\n",
    "Here we have 95% confidence intervals for the mean difference between console game sales and handheld games sales using both the normal distribution and the t-distribution.  Here we used the mean difference and standard error that we found from the prior 2 sample t-test.  Both confidence intervals are very similar which makes sense since our sample size is so large and the t-distribution begins to look more and more like the normal distribution the larger the sample size (larger tails start to thin out and become similar to that of the normal distribution as the sample size increases and the degrees of freedom increase).  Overall these 2 confidence intervals confirm our hypothesis testing as the confidence intervals do not contain zero showing that there is a meaningful difference."
   ]
  },
  {
   "cell_type": "markdown",
   "metadata": {
    "id": "UEYi4hVXsLL7"
   },
   "source": [
    "# Discussion\n",
    "\n",
    "**Results and Findings**\n",
    "\n",
    "We have found that there is a statistically-significant difference between the mean sales of handheld games and the mean sales of home console games based on the results of our hypothesis test. Both the permutation and aymptotic approximation methods show that the likelihood of the means sales being the same is incredibly small, much smaller than our significance level of 5%.\n",
    "\n",
    "**Impact**\n",
    "\n",
    "**Future Questions**\n",
    "\n",
    "Future questions this could exploration could lead to are:\n",
    "Future questions this could exploration could lead to are: \n",
    "- If this inferential question used a dataset with a shorter range of years, would the results differ? Would this exploration be able to identify specific year ranges where handheld games were more popular than or were equally as popular than home consoles?\n",
    "\n",
    "- If this inferential question used a dataset with data from only the past few years, how would the results differ from this exploration (which contains data from 2001-2020)? Do console games remain more popular in 2020-2023, or has the trend changed?\n",
    "\n",
    "- Is the significant difference in means due to the popularity of specific consoles (Wii, PS), rather than its platform?\n",
    "- Other variations of this question could be investigating the effect of the company that manufactured the console or the genre of the game.\n",
    "\n",
    "- If we investigated another geographic region, such as Japan or Europe, would the results differ?\n",
    "\n",
    "    \n",
    " Comparison between permutation distribution and asymptotic approximation\n"
   ]
  },
  {
   "cell_type": "markdown",
   "metadata": {
    "id": "nUwWS2s-RYZH"
   },
   "source": [
    "# References\n",
    "\n",
    "0. GregorySmith. (2016, October 26). Video game sales. Kaggle. https://www.kaggle.com/datasets/gregorut/videogamesales\n",
    "\n",
    "1. Owens, T. (2022, August 11). Gaming console ownership and purchase intentions among households in the United States as of May 2021. Statista. https://www.statista.com/statistics/1277164/purchase-video-game-consoles/\n",
    "\n",
    "2. Encyclopædia Britannica, inc. (2023, July 19). Xbox. Encyclopædia Britannica. https://www.britannica.com/technology/Xbox\n",
    "\n",
    "3. Ross, Sheldon M. (2017). Chapter 9 - Testing Statistical Hypothesis. Introductory Statistics (Fourth edition). https://doi.org/10.1016/B978-0-12-804317-2.00009-6"
   ]
  }
 ],
 "metadata": {
  "colab": {
   "provenance": []
  },
  "kernelspec": {
   "display_name": "R",
   "language": "R",
   "name": "ir"
  },
  "language_info": {
   "codemirror_mode": "r",
   "file_extension": ".r",
   "mimetype": "text/x-r-source",
   "name": "R",
   "pygments_lexer": "r",
   "version": "4.1.3"
  }
 },
 "nbformat": 4,
 "nbformat_minor": 4
}
