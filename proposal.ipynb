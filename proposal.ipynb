{
  "nbformat": 4,
  "nbformat_minor": 0,
  "metadata": {
    "colab": {
      "provenance": []
    },
    "kernelspec": {
      "name": "ir",
      "display_name": "R"
    },
    "language_info": {
      "name": "R"
    }
  },
  "cells": [
    {
      "cell_type": "markdown",
      "source": [
        "# *Title**"
      ],
      "metadata": {
        "id": "ZE9M1Lx0Q6Xs"
      }
    },
    {
      "cell_type": "markdown",
      "source": [
        "# Introduction\n",
        "\n",
        "test"
      ],
      "metadata": {
        "id": "1ZNFrTP8RMiA"
      }
    },
    {
      "cell_type": "markdown",
      "source": [
        "# Preliminary Results"
      ],
      "metadata": {
        "id": "dK6nKtt_RRZP"
      }
    },
    {
      "cell_type": "code",
      "source": [
        "#install.packages(\"tidymodels\")\n"
      ],
      "metadata": {
        "id": "2pPilml6XJQe"
      },
      "execution_count": 173,
      "outputs": []
    },
    {
      "cell_type": "code",
      "source": [
        "library(tidyverse)\n",
        "library(tidymodels)\n",
        "options(repr.plot.width = 10, repr.plot.height = 8)\n",
        "options(repr.matrix.max.rows = 6)"
      ],
      "metadata": {
        "id": "jZiSzkF4WtWY"
      },
      "execution_count": 174,
      "outputs": []
    },
    {
      "cell_type": "code",
      "source": [
        "# Grabbing the data\n",
        "url <- \"https://gist.githubusercontent.com/zhonglism/f146a9423e2c975de8d03c26451f841e/raw/f79e190df4225caed58bf360d8e20a9fa872b4ac/vgsales.csv\"\n",
        "#Reading data into R\n",
        "gaming_dataset <- read_csv(url)\n",
        "#Selecting columns we need for our analysis\n",
        "gaming_data <- gaming_dataset %>%\n",
        "filter(\n",
        "Year > 2001,\n",
        "NA_Sales > 0) %>%\n",
        "select(Name, Year, Platform, NA_Sales) |>\n",
        "  mutate(Platform = if_else(Platform %in% c(\"DS\", \"GBA\", \"GB\", \"PSV\", \"PSP\"), \"Handheld\", \"Home Console\"))\n",
        "\n",
        "gaming_data"
      ],
      "metadata": {
        "colab": {
          "base_uri": "https://localhost:8080/",
          "height": 461
        },
        "id": "PAap73xZW5BP",
        "outputId": "7e0631e9-db6f-4ebd-828d-a4bd304494b4"
      },
      "execution_count": 207,
      "outputs": [
        {
          "output_type": "stream",
          "name": "stderr",
          "text": [
            "\u001b[1mRows: \u001b[22m\u001b[34m16598\u001b[39m \u001b[1mColumns: \u001b[22m\u001b[34m11\u001b[39m\n",
            "\u001b[36m──\u001b[39m \u001b[1mColumn specification\u001b[22m \u001b[36m────────────────────────────────────────────────────────\u001b[39m\n",
            "\u001b[1mDelimiter:\u001b[22m \",\"\n",
            "\u001b[31mchr\u001b[39m (5): Name, Platform, Year, Genre, Publisher\n",
            "\u001b[32mdbl\u001b[39m (6): Rank, NA_Sales, EU_Sales, JP_Sales, Other_Sales, Global_Sales\n",
            "\n",
            "\u001b[36mℹ\u001b[39m Use `spec()` to retrieve the full column specification for this data.\n",
            "\u001b[36mℹ\u001b[39m Specify the column types or set `show_col_types = FALSE` to quiet this message.\n"
          ]
        },
        {
          "output_type": "display_data",
          "data": {
            "text/html": [
              "<table class=\"dataframe\">\n",
              "<caption>A tibble: 10129 × 4</caption>\n",
              "<thead>\n",
              "\t<tr><th scope=col>Name</th><th scope=col>Year</th><th scope=col>Platform</th><th scope=col>NA_Sales</th></tr>\n",
              "\t<tr><th scope=col>&lt;chr&gt;</th><th scope=col>&lt;chr&gt;</th><th scope=col>&lt;chr&gt;</th><th scope=col>&lt;dbl&gt;</th></tr>\n",
              "</thead>\n",
              "<tbody>\n",
              "\t<tr><td>Wii Sports       </td><td>2006</td><td>Home Console</td><td>41.49</td></tr>\n",
              "\t<tr><td>Mario Kart Wii   </td><td>2008</td><td>Home Console</td><td>15.85</td></tr>\n",
              "\t<tr><td>Wii Sports Resort</td><td>2009</td><td>Home Console</td><td>15.75</td></tr>\n",
              "\t<tr><td>⋮</td><td>⋮</td><td>⋮</td><td>⋮</td></tr>\n",
              "\t<tr><td>Woody Woodpecker in Crazy Castle 5</td><td>2002</td><td>Handheld    </td><td>0.01</td></tr>\n",
              "\t<tr><td>Men in Black II: Alien Escape     </td><td>2003</td><td>Home Console</td><td>0.01</td></tr>\n",
              "\t<tr><td><span style=white-space:pre-wrap>Spirits &amp; Spells                  </span></td><td>2003</td><td><span style=white-space:pre-wrap>Handheld    </span></td><td>0.01</td></tr>\n",
              "</tbody>\n",
              "</table>\n"
            ],
            "text/markdown": "\nA tibble: 10129 × 4\n\n| Name &lt;chr&gt; | Year &lt;chr&gt; | Platform &lt;chr&gt; | NA_Sales &lt;dbl&gt; |\n|---|---|---|---|\n| Wii Sports        | 2006 | Home Console | 41.49 |\n| Mario Kart Wii    | 2008 | Home Console | 15.85 |\n| Wii Sports Resort | 2009 | Home Console | 15.75 |\n| ⋮ | ⋮ | ⋮ | ⋮ |\n| Woody Woodpecker in Crazy Castle 5 | 2002 | Handheld     | 0.01 |\n| Men in Black II: Alien Escape      | 2003 | Home Console | 0.01 |\n| Spirits &amp; Spells                   | 2003 | Handheld     | 0.01 |\n\n",
            "text/latex": "A tibble: 10129 × 4\n\\begin{tabular}{llll}\n Name & Year & Platform & NA\\_Sales\\\\\n <chr> & <chr> & <chr> & <dbl>\\\\\n\\hline\n\t Wii Sports        & 2006 & Home Console & 41.49\\\\\n\t Mario Kart Wii    & 2008 & Home Console & 15.85\\\\\n\t Wii Sports Resort & 2009 & Home Console & 15.75\\\\\n\t ⋮ & ⋮ & ⋮ & ⋮\\\\\n\t Woody Woodpecker in Crazy Castle 5 & 2002 & Handheld     & 0.01\\\\\n\t Men in Black II: Alien Escape      & 2003 & Home Console & 0.01\\\\\n\t Spirits \\& Spells                   & 2003 & Handheld     & 0.01\\\\\n\\end{tabular}\n",
            "text/plain": [
              "      Name                               Year Platform     NA_Sales\n",
              "1     Wii Sports                         2006 Home Console 41.49   \n",
              "2     Mario Kart Wii                     2008 Home Console 15.85   \n",
              "3     Wii Sports Resort                  2009 Home Console 15.75   \n",
              "⋮     ⋮                                  ⋮    ⋮            ⋮       \n",
              "10127 Woody Woodpecker in Crazy Castle 5 2002 Handheld     0.01    \n",
              "10128 Men in Black II: Alien Escape      2003 Home Console 0.01    \n",
              "10129 Spirits & Spells                   2003 Handheld     0.01    "
            ]
          },
          "metadata": {}
        }
      ]
    },
    {
      "cell_type": "markdown",
      "source": [
        "(Figure 1.1)\n",
        "\n",
        "Our dataset consists of the sales data for 10129 games released in North America after the year 2001. We chose to use this year as a cutoff because it is well into the initial popularization of handheld consoles by the original Game Boy. Including titles that were released significantly earlier than this point may cause home consoles to be overrepresented in the sample, as the handheld market practically did not exist prior to 1989. It is also the release date of the Game Boy Advance, a significant player in the handheld console market."
      ],
      "metadata": {
        "id": "zghBlFGHq1zb"
      }
    },
    {
      "cell_type": "code",
      "source": [
        "#Comparing the sampling distributions of handheld and home console systems in North America\n",
        "gaming_data_dist_na <-\n",
        "gaming_data %>%\n",
        "ggplot() +\n",
        "geom_histogram(aes(x = NA_Sales), bins = 50) +\n",
        "facet_wrap(~ Platform) +\n",
        "xlab(\"Copies sold (Millions)\") +\n",
        "ylab(\"Number of game titles\") +\n",
        "ggtitle(\"Games Sold per Platform\")+\n",
        "theme(text = element_text(size = 22))\n",
        "gaming_data_dist_na"
      ],
      "metadata": {
        "colab": {
          "base_uri": "https://localhost:8080/",
          "height": 497
        },
        "id": "DsX38WlhnYyy",
        "outputId": "37ad59ad-05e0-4468-cbdd-80ef1c7fcbad"
      },
      "execution_count": 208,
      "outputs": [
        {
          "output_type": "display_data",
          "data": {
            "text/plain": [
              "plot without title"
            ],
            "image/png": "[encoded data removed]"
          },
          "metadata": {
            "image/png": {
              "width": 600,
              "height": 480
            }
          }
        }
      ]
    },
    {
      "cell_type": "markdown",
      "source": [
        "(Figure 1.2)\n",
        "\n",
        "This is a plot of the global sales figures of our sample. It features a heavily right-skewed unimodal distribution. As is plainly visible, the number of total sales for home console systems eclipses that of the sales for handheld console systems. Despite this, the centers of the distributions appear to be fairly close to one another."
      ],
      "metadata": {
        "id": "FebGTmukthsg"
      }
    },
    {
      "cell_type": "code",
      "source": [
        "# Total sales\n",
        "total_sales <-\n",
        "    sum(gaming_data$NA_Sales)\n",
        "total_titles <- NROW(gaming_data)\n",
        "sum_stats <-\n",
        "  gaming_data |>\n",
        "  group_by(Platform) |>\n",
        "  summarise(Num_Titles = n(),\n",
        "            Sales_Total = sum(NA_Sales),\n",
        "            Titles_Proportion = Num_Titles/total_titles,\n",
        "            Sales_Proportion = Sales_Total/total_sales,\n",
        "            Sales_Mean = mean(NA_Sales),\n",
        "            Sales_SD = sd(NA_Sales))\n",
        "sum_stats\n"
      ],
      "metadata": {
        "colab": {
          "base_uri": "https://localhost:8080/",
          "height": 161
        },
        "id": "xZ-Bd0I52HFi",
        "outputId": "e0618932-f27e-46cd-87dd-4ee4cf4a4015"
      },
      "execution_count": 210,
      "outputs": [
        {
          "output_type": "display_data",
          "data": {
            "text/html": [
              "<table class=\"dataframe\">\n",
              "<caption>A tibble: 2 × 7</caption>\n",
              "<thead>\n",
              "\t<tr><th scope=col>Platform</th><th scope=col>Num_Titles</th><th scope=col>Sales_Total</th><th scope=col>Titles_Proportion</th><th scope=col>Sales_Proportion</th><th scope=col>Sales_Mean</th><th scope=col>Sales_SD</th></tr>\n",
              "\t<tr><th scope=col>&lt;chr&gt;</th><th scope=col>&lt;int&gt;</th><th scope=col>&lt;dbl&gt;</th><th scope=col>&lt;dbl&gt;</th><th scope=col>&lt;dbl&gt;</th><th scope=col>&lt;dbl&gt;</th><th scope=col>&lt;dbl&gt;</th></tr>\n",
              "</thead>\n",
              "<tbody>\n",
              "\t<tr><td>Handheld    </td><td>2912</td><td> 667.83</td><td>0.2874914</td><td>0.2015963</td><td>0.2293372</td><td>0.5101972</td></tr>\n",
              "\t<tr><td>Home Console</td><td>7217</td><td>2644.88</td><td>0.7125086</td><td>0.7984037</td><td>0.3664791</td><td>0.9114268</td></tr>\n",
              "</tbody>\n",
              "</table>\n"
            ],
            "text/markdown": "\nA tibble: 2 × 7\n\n| Platform &lt;chr&gt; | Num_Titles &lt;int&gt; | Sales_Total &lt;dbl&gt; | Titles_Proportion &lt;dbl&gt; | Sales_Proportion &lt;dbl&gt; | Sales_Mean &lt;dbl&gt; | Sales_SD &lt;dbl&gt; |\n|---|---|---|---|---|---|---|\n| Handheld     | 2912 |  667.83 | 0.2874914 | 0.2015963 | 0.2293372 | 0.5101972 |\n| Home Console | 7217 | 2644.88 | 0.7125086 | 0.7984037 | 0.3664791 | 0.9114268 |\n\n",
            "text/latex": "A tibble: 2 × 7\n\\begin{tabular}{lllllll}\n Platform & Num\\_Titles & Sales\\_Total & Titles\\_Proportion & Sales\\_Proportion & Sales\\_Mean & Sales\\_SD\\\\\n <chr> & <int> & <dbl> & <dbl> & <dbl> & <dbl> & <dbl>\\\\\n\\hline\n\t Handheld     & 2912 &  667.83 & 0.2874914 & 0.2015963 & 0.2293372 & 0.5101972\\\\\n\t Home Console & 7217 & 2644.88 & 0.7125086 & 0.7984037 & 0.3664791 & 0.9114268\\\\\n\\end{tabular}\n",
            "text/plain": [
              "  Platform     Num_Titles Sales_Total Titles_Proportion Sales_Proportion\n",
              "1 Handheld     2912        667.83     0.2874914         0.2015963       \n",
              "2 Home Console 7217       2644.88     0.7125086         0.7984037       \n",
              "  Sales_Mean Sales_SD \n",
              "1 0.2293372  0.5101972\n",
              "2 0.3664791  0.9114268"
            ]
          },
          "metadata": {}
        }
      ]
    },
    {
      "cell_type": "markdown",
      "source": [
        "(Figure 1.3)\n",
        "\n",
        "This table displays the total numbers for our dataset. The total number of titles and sales for each type of console are shown, as well as the proportion of titles and sales that each represent in the wider sample. We can see that the proportion of the titles for handheld systems is under-represented by their sales.\n",
        "\n",
        "The table also displays sample estimates for our center and scale variables: mean and standard deviation, respectively. We chose to use these types of parameters because they are sensitive to outliers, which corresponds well to our heavily skewed dataset."
      ],
      "metadata": {
        "id": "AknxBN9Yuo2i"
      }
    },
    {
      "cell_type": "markdown",
      "source": [
        "# Methods: Plan"
      ],
      "metadata": {
        "id": "aVGFdhERRYxz"
      }
    },
    {
      "cell_type": "markdown",
      "source": [
        "# References"
      ],
      "metadata": {
        "id": "nUwWS2s-RYZH"
      }
    }
  ]
}